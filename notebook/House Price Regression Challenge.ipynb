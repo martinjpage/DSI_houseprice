{
 "cells": [
  {
   "cell_type": "markdown",
   "metadata": {},
   "source": [
    "# House Price Regression Challenge\n",
    "\n",
    "**Author**: Martin J Page   \n",
    "**Date**: 25 September 2020    \n",
    "\n",
    "**Objective**: Build a regression model to that can predict the price of a house in Cape Town, South Africa from basic features scraped from the web.  \n",
    "\n",
    "**Data**:   \n",
    "House price data were scraped from property24.com and sahometraders.co.za, using the search criteria\n",
    "\"Cape Town\", as well as the property types \"House\", \"Apartment\", and \"Townhouse\". The resulting search\n",
    "pages were the inputs for the web scaper. The web scarping code for [property24.com](https://raw.githubusercontent.com/martinjpage/DSI_houseprice/master/Web%20Scaping_Property%2024.py) and\n",
    "[sahometraders.co.za](https://raw.githubusercontent.com/martinjpage/DSI_houseprice/master/Web%20Scraping_SA%20Hometraders.py) are available on the author's [GitHub](https://github.com/martinjpage/DSI_houseprice). The data were then cleaned and\n",
    "formatted and the two dataframes were merged, with 11970 observations, with this [code](https://raw.githubusercontent.com/martinjpage/DSI_houseprice/master/Data%20Cleaning.py). This yielded 5 numeric\n",
    "variables: `price` (the target), `bedroom`, `bathroom`, `garage` (which are the number of the respective objects\n",
    "in the house) and `floorSize` (which the size of the house in square metres); as well as two\n",
    "categorical variabels: `location` (the suburb where the house is located) and `propertyType`,\n",
    "either `House`, `Apartment` or `Townhouse` as defined by the property websites.\n",
    "\n",
    "**Data Processing**   \n",
    "In this notebook, the formatted data are explored and processed for modelling. The `propertyType` levels \"House\" and \"Townhouse\" were combined into one variable called \"House\". Observations belonging to a `location` with fewer than 80 examples in the dataset were removed. All the numeric data were skewed to the right and transformed using a log transformation. Missing numeric values were imputed using the column mean. Categorical variables were encoded as dummy variables. The processed data was split into a target (`y`) and features (`X`) set and then into train (80%) and test (20%) datasets for modelling.   \n",
    "\n",
    "**Modelling**    \n",
    "The below models were explored using cross-validation and scored using RMSE. Select hyperparameters were tuned.   \n",
    "  1. Linear regression (no tuning)   \n",
    "  2. Ridge regression (tuning of alpha)   \n",
    "  3. Lasso regression (tuning of alpha)  \n",
    "  4. Random forest regression (tuning of max_depth, min_samples_leaf, min_samples_split, n_estimators)   \n",
    "  \n",
    "**Evaluation**   \n",
    "The best tuning parameter for regularised regression with `alpha = 0`. Therefore the standard linear regression and the random forest regression models were compared on the hold-out data set. Random forest produced the lowest RMSE on the test set at R5 554 764 (predictions were exponentiated to be on the orginal scale). This output was judged to be very poor. One issue might be that even after the log transformation, several variables still did not appear approximately normally distributed. However, a potent reason for the poor predictive performance of the models may be that the features do not offer enough discriminatory ability and do not capture some essential driver(s) of house prices: that is, houses with a similar number of bedrooms, bathrooms, etc. are priced very differently.   \n",
    "\n",
    "**Note**: to use the notebook, start by running the library code block at the end"
   ]
  },
  {
   "cell_type": "markdown",
   "metadata": {},
   "source": [
    "## Data Loading   \n"
   ]
  },
  {
   "cell_type": "code",
   "execution_count": 170,
   "metadata": {},
   "outputs": [
    {
     "name": "stdout",
     "output_type": "stream",
     "text": [
      "/c/Users/Martin/OneDrive/Documents/Repos/DSI/Regression Twist Challenge\n"
     ]
    }
   ],
   "source": [
    "!pwd"
   ]
  },
  {
   "cell_type": "code",
   "execution_count": 215,
   "metadata": {},
   "outputs": [],
   "source": [
    "housePrice = pd.read_csv(\"HousePrice_Final.csv\")"
   ]
  },
  {
   "cell_type": "markdown",
   "metadata": {},
   "source": [
    "**or** load by url"
   ]
  },
  {
   "cell_type": "code",
   "execution_count": null,
   "metadata": {},
   "outputs": [],
   "source": [
    "# url = \"https://raw.githubusercontent.com/martinjpage/DSI_houseprice/master/HousePrice_Final.csv\"\n",
    "# housePrice = pd.read_csv(url)"
   ]
  },
  {
   "cell_type": "markdown",
   "metadata": {},
   "source": [
    "## Data Exploration\n",
    "Examine the structure of the data"
   ]
  },
  {
   "cell_type": "code",
   "execution_count": 172,
   "metadata": {
    "pycharm": {
     "name": "#%%\n"
    }
   },
   "outputs": [
    {
     "name": "stdout",
     "output_type": "stream",
     "text": [
      "<class 'pandas.core.frame.DataFrame'>\n",
      "RangeIndex: 11970 entries, 0 to 11969\n",
      "Data columns (total 7 columns):\n",
      "price           11970 non-null float64\n",
      "location        11970 non-null object\n",
      "bedroom         11770 non-null float64\n",
      "bathroom        11367 non-null float64\n",
      "garage          8171 non-null float64\n",
      "floorSize       10566 non-null float64\n",
      "propertyType    11970 non-null object\n",
      "dtypes: float64(5), object(2)\n",
      "memory usage: 654.7+ KB\n"
     ]
    }
   ],
   "source": [
    "housePrice.info()"
   ]
  },
  {
   "cell_type": "markdown",
   "metadata": {
    "pycharm": {
     "name": "#%% md\n"
    }
   },
   "source": [
    "Look at the summary statistics of the numerical columns"
   ]
  },
  {
   "cell_type": "code",
   "execution_count": 173,
   "metadata": {
    "pycharm": {
     "name": "#%%\n"
    }
   },
   "outputs": [
    {
     "data": {
      "text/html": [
       "<div>\n",
       "<style scoped>\n",
       "    .dataframe tbody tr th:only-of-type {\n",
       "        vertical-align: middle;\n",
       "    }\n",
       "\n",
       "    .dataframe tbody tr th {\n",
       "        vertical-align: top;\n",
       "    }\n",
       "\n",
       "    .dataframe thead th {\n",
       "        text-align: right;\n",
       "    }\n",
       "</style>\n",
       "<table border=\"1\" class=\"dataframe\">\n",
       "  <thead>\n",
       "    <tr style=\"text-align: right;\">\n",
       "      <th></th>\n",
       "      <th>price</th>\n",
       "      <th>bedroom</th>\n",
       "      <th>bathroom</th>\n",
       "      <th>garage</th>\n",
       "      <th>floorSize</th>\n",
       "    </tr>\n",
       "  </thead>\n",
       "  <tbody>\n",
       "    <tr>\n",
       "      <td>count</td>\n",
       "      <td>1.197000e+04</td>\n",
       "      <td>11770.000000</td>\n",
       "      <td>11367.000000</td>\n",
       "      <td>8171.000000</td>\n",
       "      <td>10566.000000</td>\n",
       "    </tr>\n",
       "    <tr>\n",
       "      <td>mean</td>\n",
       "      <td>6.404230e+06</td>\n",
       "      <td>2.706415</td>\n",
       "      <td>2.127210</td>\n",
       "      <td>2.091237</td>\n",
       "      <td>229.348931</td>\n",
       "    </tr>\n",
       "    <tr>\n",
       "      <td>std</td>\n",
       "      <td>9.023614e+06</td>\n",
       "      <td>1.589975</td>\n",
       "      <td>1.482776</td>\n",
       "      <td>1.769116</td>\n",
       "      <td>232.886255</td>\n",
       "    </tr>\n",
       "    <tr>\n",
       "      <td>min</td>\n",
       "      <td>1.990000e+05</td>\n",
       "      <td>0.500000</td>\n",
       "      <td>0.500000</td>\n",
       "      <td>1.000000</td>\n",
       "      <td>17.000000</td>\n",
       "    </tr>\n",
       "    <tr>\n",
       "      <td>25%</td>\n",
       "      <td>1.950000e+06</td>\n",
       "      <td>2.000000</td>\n",
       "      <td>1.000000</td>\n",
       "      <td>1.000000</td>\n",
       "      <td>68.000000</td>\n",
       "    </tr>\n",
       "    <tr>\n",
       "      <td>50%</td>\n",
       "      <td>3.250000e+06</td>\n",
       "      <td>2.000000</td>\n",
       "      <td>2.000000</td>\n",
       "      <td>2.000000</td>\n",
       "      <td>116.000000</td>\n",
       "    </tr>\n",
       "    <tr>\n",
       "      <td>75%</td>\n",
       "      <td>6.950000e+06</td>\n",
       "      <td>3.000000</td>\n",
       "      <td>3.000000</td>\n",
       "      <td>2.000000</td>\n",
       "      <td>318.750000</td>\n",
       "    </tr>\n",
       "    <tr>\n",
       "      <td>max</td>\n",
       "      <td>1.725000e+08</td>\n",
       "      <td>33.000000</td>\n",
       "      <td>30.000000</td>\n",
       "      <td>58.000000</td>\n",
       "      <td>2203.000000</td>\n",
       "    </tr>\n",
       "  </tbody>\n",
       "</table>\n",
       "</div>"
      ],
      "text/plain": [
       "              price       bedroom      bathroom       garage     floorSize\n",
       "count  1.197000e+04  11770.000000  11367.000000  8171.000000  10566.000000\n",
       "mean   6.404230e+06      2.706415      2.127210     2.091237    229.348931\n",
       "std    9.023614e+06      1.589975      1.482776     1.769116    232.886255\n",
       "min    1.990000e+05      0.500000      0.500000     1.000000     17.000000\n",
       "25%    1.950000e+06      2.000000      1.000000     1.000000     68.000000\n",
       "50%    3.250000e+06      2.000000      2.000000     2.000000    116.000000\n",
       "75%    6.950000e+06      3.000000      3.000000     2.000000    318.750000\n",
       "max    1.725000e+08     33.000000     30.000000    58.000000   2203.000000"
      ]
     },
     "execution_count": 173,
     "metadata": {},
     "output_type": "execute_result"
    }
   ],
   "source": [
    "housePrice.describe()"
   ]
  },
  {
   "cell_type": "markdown",
   "metadata": {
    "pycharm": {
     "name": "#%% md\n"
    }
   },
   "source": [
    "Look at the correlations between the numerical features"
   ]
  },
  {
   "cell_type": "code",
   "execution_count": 216,
   "metadata": {},
   "outputs": [
    {
     "data": {
      "image/png": "[encoded data removed]",
      "text/plain": [
       "<Figure size 288x288 with 2 Axes>"
      ]
     },
     "metadata": {
      "needs_background": "light"
     },
     "output_type": "display_data"
    }
   ],
   "source": [
    "plt.matshow(housePrice.corr()); plt.colorbar(); plt.show()"
   ]
  },
  {
   "cell_type": "markdown",
   "metadata": {},
   "source": [
    "Look at the distribution of the numeric variables"
   ]
  },
  {
   "cell_type": "code",
   "execution_count": 175,
   "metadata": {
    "pycharm": {
     "name": "#%%\n"
    }
   },
   "outputs": [
    {
     "data": {
      "image/png": "[encoded data removed]",
      "text/plain": [
       "<Figure size 432x288 with 1 Axes>"
      ]
     },
     "metadata": {
      "needs_background": "light"
     },
     "output_type": "display_data"
    },
    {
     "data": {
      "image/png": "[encoded data removed]",
      "text/plain": [
       "<Figure size 432x288 with 1 Axes>"
      ]
     },
     "metadata": {
      "needs_background": "light"
     },
     "output_type": "display_data"
    },
    {
     "data": {
      "image/png": "[encoded data removed]",
      "text/plain": [
       "<Figure size 432x288 with 1 Axes>"
      ]
     },
     "metadata": {
      "needs_background": "light"
     },
     "output_type": "display_data"
    },
    {
     "data": {
      "image/png": "[encoded data removed]",
      "text/plain": [
       "<Figure size 432x288 with 1 Axes>"
      ]
     },
     "metadata": {
      "needs_background": "light"
     },
     "output_type": "display_data"
    },
    {
     "data": {
      "image/png": "[encoded data removed]",
      "text/plain": [
       "<Figure size 432x288 with 1 Axes>"
      ]
     },
     "metadata": {
      "needs_background": "light"
     },
     "output_type": "display_data"
    }
   ],
   "source": [
    "housePrice.iloc[:,0].hist(); plt.show()\n",
    "housePrice.iloc[:,2].hist(); plt.show()\n",
    "housePrice.iloc[:,3].hist(); plt.show()\n",
    "housePrice.iloc[:,4].hist(); plt.show()\n",
    "housePrice.iloc[:,5].hist(); plt.show()"
   ]
  },
  {
   "cell_type": "markdown",
   "metadata": {},
   "source": [
    "Look the the counts of the categorical features"
   ]
  },
  {
   "cell_type": "code",
   "execution_count": 176,
   "metadata": {
    "pycharm": {
     "name": "#%%\n"
    }
   },
   "outputs": [
    {
     "data": {
      "image/png": "[encoded data removed]",
      "text/plain": [
       "<Figure size 432x288 with 1 Axes>"
      ]
     },
     "metadata": {
      "needs_background": "light"
     },
     "output_type": "display_data"
    },
    {
     "data": {
      "image/png": "[encoded data removed]",
      "text/plain": [
       "<Figure size 432x288 with 1 Axes>"
      ]
     },
     "metadata": {
      "needs_background": "light"
     },
     "output_type": "display_data"
    }
   ],
   "source": [
    "housePrice.iloc[:,1].hist(); plt.show()\n",
    "housePrice.iloc[:,6].hist(); plt.show()"
   ]
  },
  {
   "cell_type": "markdown",
   "metadata": {},
   "source": [
    "## Data Processing"
   ]
  },
  {
   "cell_type": "markdown",
   "metadata": {
    "pycharm": {
     "name": "#%% md\n"
    }
   },
   "source": [
    "Combine house and townhouse as one group"
   ]
  },
  {
   "cell_type": "code",
   "execution_count": 177,
   "metadata": {
    "pycharm": {
     "name": "#%%\n"
    }
   },
   "outputs": [],
   "source": [
    "housePrice[\"propertyType\"] = housePrice[\"propertyType\"].str.replace(\"Townhouse\", \"House\")"
   ]
  },
  {
   "cell_type": "markdown",
   "metadata": {},
   "source": [
    "Look at summmary statistics by property type"
   ]
  },
  {
   "cell_type": "code",
   "execution_count": 178,
   "metadata": {},
   "outputs": [
    {
     "data": {
      "text/html": [
       "<div>\n",
       "<style scoped>\n",
       "    .dataframe tbody tr th:only-of-type {\n",
       "        vertical-align: middle;\n",
       "    }\n",
       "\n",
       "    .dataframe tbody tr th {\n",
       "        vertical-align: top;\n",
       "    }\n",
       "\n",
       "    .dataframe thead th {\n",
       "        text-align: right;\n",
       "    }\n",
       "</style>\n",
       "<table border=\"1\" class=\"dataframe\">\n",
       "  <thead>\n",
       "    <tr style=\"text-align: right;\">\n",
       "      <th></th>\n",
       "      <th>propertyType</th>\n",
       "      <th>Apartment</th>\n",
       "      <th>House</th>\n",
       "    </tr>\n",
       "  </thead>\n",
       "  <tbody>\n",
       "    <tr>\n",
       "      <td rowspan=\"8\" valign=\"top\">price</td>\n",
       "      <td>count</td>\n",
       "      <td>6.683000e+03</td>\n",
       "      <td>5.287000e+03</td>\n",
       "    </tr>\n",
       "    <tr>\n",
       "      <td>mean</td>\n",
       "      <td>4.681921e+06</td>\n",
       "      <td>8.581305e+06</td>\n",
       "    </tr>\n",
       "    <tr>\n",
       "      <td>std</td>\n",
       "      <td>6.368804e+06</td>\n",
       "      <td>1.116271e+07</td>\n",
       "    </tr>\n",
       "    <tr>\n",
       "      <td>min</td>\n",
       "      <td>2.450000e+05</td>\n",
       "      <td>1.990000e+05</td>\n",
       "    </tr>\n",
       "    <tr>\n",
       "      <td>25%</td>\n",
       "      <td>1.700000e+06</td>\n",
       "      <td>2.595000e+06</td>\n",
       "    </tr>\n",
       "    <tr>\n",
       "      <td>50%</td>\n",
       "      <td>2.640000e+06</td>\n",
       "      <td>4.850000e+06</td>\n",
       "    </tr>\n",
       "    <tr>\n",
       "      <td>75%</td>\n",
       "      <td>4.550000e+06</td>\n",
       "      <td>9.992500e+06</td>\n",
       "    </tr>\n",
       "    <tr>\n",
       "      <td>max</td>\n",
       "      <td>7.500000e+07</td>\n",
       "      <td>1.725000e+08</td>\n",
       "    </tr>\n",
       "    <tr>\n",
       "      <td rowspan=\"8\" valign=\"top\">bedroom</td>\n",
       "      <td>count</td>\n",
       "      <td>6.486000e+03</td>\n",
       "      <td>5.284000e+03</td>\n",
       "    </tr>\n",
       "    <tr>\n",
       "      <td>mean</td>\n",
       "      <td>1.838961e+00</td>\n",
       "      <td>3.771196e+00</td>\n",
       "    </tr>\n",
       "    <tr>\n",
       "      <td>std</td>\n",
       "      <td>8.262319e-01</td>\n",
       "      <td>1.654062e+00</td>\n",
       "    </tr>\n",
       "    <tr>\n",
       "      <td>min</td>\n",
       "      <td>5.000000e-01</td>\n",
       "      <td>5.000000e-01</td>\n",
       "    </tr>\n",
       "    <tr>\n",
       "      <td>25%</td>\n",
       "      <td>1.000000e+00</td>\n",
       "      <td>3.000000e+00</td>\n",
       "    </tr>\n",
       "    <tr>\n",
       "      <td>50%</td>\n",
       "      <td>2.000000e+00</td>\n",
       "      <td>3.000000e+00</td>\n",
       "    </tr>\n",
       "    <tr>\n",
       "      <td>75%</td>\n",
       "      <td>2.000000e+00</td>\n",
       "      <td>4.000000e+00</td>\n",
       "    </tr>\n",
       "    <tr>\n",
       "      <td>max</td>\n",
       "      <td>1.500000e+01</td>\n",
       "      <td>3.300000e+01</td>\n",
       "    </tr>\n",
       "    <tr>\n",
       "      <td rowspan=\"8\" valign=\"top\">bathroom</td>\n",
       "      <td>count</td>\n",
       "      <td>6.424000e+03</td>\n",
       "      <td>4.943000e+03</td>\n",
       "    </tr>\n",
       "    <tr>\n",
       "      <td>mean</td>\n",
       "      <td>1.553004e+00</td>\n",
       "      <td>2.873457e+00</td>\n",
       "    </tr>\n",
       "    <tr>\n",
       "      <td>std</td>\n",
       "      <td>8.894789e-01</td>\n",
       "      <td>1.744338e+00</td>\n",
       "    </tr>\n",
       "    <tr>\n",
       "      <td>min</td>\n",
       "      <td>5.000000e-01</td>\n",
       "      <td>1.000000e+00</td>\n",
       "    </tr>\n",
       "    <tr>\n",
       "      <td>25%</td>\n",
       "      <td>1.000000e+00</td>\n",
       "      <td>2.000000e+00</td>\n",
       "    </tr>\n",
       "    <tr>\n",
       "      <td>50%</td>\n",
       "      <td>1.000000e+00</td>\n",
       "      <td>2.500000e+00</td>\n",
       "    </tr>\n",
       "    <tr>\n",
       "      <td>75%</td>\n",
       "      <td>2.000000e+00</td>\n",
       "      <td>3.500000e+00</td>\n",
       "    </tr>\n",
       "    <tr>\n",
       "      <td>max</td>\n",
       "      <td>2.500000e+01</td>\n",
       "      <td>3.000000e+01</td>\n",
       "    </tr>\n",
       "    <tr>\n",
       "      <td rowspan=\"8\" valign=\"top\">garage</td>\n",
       "      <td>count</td>\n",
       "      <td>3.850000e+03</td>\n",
       "      <td>4.321000e+03</td>\n",
       "    </tr>\n",
       "    <tr>\n",
       "      <td>mean</td>\n",
       "      <td>1.393636e+00</td>\n",
       "      <td>2.712798e+00</td>\n",
       "    </tr>\n",
       "    <tr>\n",
       "      <td>std</td>\n",
       "      <td>6.952861e-01</td>\n",
       "      <td>2.160600e+00</td>\n",
       "    </tr>\n",
       "    <tr>\n",
       "      <td>min</td>\n",
       "      <td>1.000000e+00</td>\n",
       "      <td>1.000000e+00</td>\n",
       "    </tr>\n",
       "    <tr>\n",
       "      <td>25%</td>\n",
       "      <td>1.000000e+00</td>\n",
       "      <td>2.000000e+00</td>\n",
       "    </tr>\n",
       "    <tr>\n",
       "      <td>50%</td>\n",
       "      <td>1.000000e+00</td>\n",
       "      <td>2.000000e+00</td>\n",
       "    </tr>\n",
       "    <tr>\n",
       "      <td>75%</td>\n",
       "      <td>2.000000e+00</td>\n",
       "      <td>3.000000e+00</td>\n",
       "    </tr>\n",
       "    <tr>\n",
       "      <td>max</td>\n",
       "      <td>1.500000e+01</td>\n",
       "      <td>5.800000e+01</td>\n",
       "    </tr>\n",
       "    <tr>\n",
       "      <td rowspan=\"8\" valign=\"top\">floorSize</td>\n",
       "      <td>count</td>\n",
       "      <td>6.430000e+03</td>\n",
       "      <td>4.136000e+03</td>\n",
       "    </tr>\n",
       "    <tr>\n",
       "      <td>mean</td>\n",
       "      <td>9.998323e+01</td>\n",
       "      <td>4.304663e+02</td>\n",
       "    </tr>\n",
       "    <tr>\n",
       "      <td>std</td>\n",
       "      <td>8.315840e+01</td>\n",
       "      <td>2.476696e+02</td>\n",
       "    </tr>\n",
       "    <tr>\n",
       "      <td>min</td>\n",
       "      <td>1.700000e+01</td>\n",
       "      <td>2.600000e+01</td>\n",
       "    </tr>\n",
       "    <tr>\n",
       "      <td>25%</td>\n",
       "      <td>5.600000e+01</td>\n",
       "      <td>2.120000e+02</td>\n",
       "    </tr>\n",
       "    <tr>\n",
       "      <td>50%</td>\n",
       "      <td>7.800000e+01</td>\n",
       "      <td>4.100000e+02</td>\n",
       "    </tr>\n",
       "    <tr>\n",
       "      <td>75%</td>\n",
       "      <td>1.100000e+02</td>\n",
       "      <td>5.970000e+02</td>\n",
       "    </tr>\n",
       "    <tr>\n",
       "      <td>max</td>\n",
       "      <td>2.203000e+03</td>\n",
       "      <td>9.980000e+02</td>\n",
       "    </tr>\n",
       "  </tbody>\n",
       "</table>\n",
       "</div>"
      ],
      "text/plain": [
       "propertyType        Apartment         House\n",
       "price     count  6.683000e+03  5.287000e+03\n",
       "          mean   4.681921e+06  8.581305e+06\n",
       "          std    6.368804e+06  1.116271e+07\n",
       "          min    2.450000e+05  1.990000e+05\n",
       "          25%    1.700000e+06  2.595000e+06\n",
       "          50%    2.640000e+06  4.850000e+06\n",
       "          75%    4.550000e+06  9.992500e+06\n",
       "          max    7.500000e+07  1.725000e+08\n",
       "bedroom   count  6.486000e+03  5.284000e+03\n",
       "          mean   1.838961e+00  3.771196e+00\n",
       "          std    8.262319e-01  1.654062e+00\n",
       "          min    5.000000e-01  5.000000e-01\n",
       "          25%    1.000000e+00  3.000000e+00\n",
       "          50%    2.000000e+00  3.000000e+00\n",
       "          75%    2.000000e+00  4.000000e+00\n",
       "          max    1.500000e+01  3.300000e+01\n",
       "bathroom  count  6.424000e+03  4.943000e+03\n",
       "          mean   1.553004e+00  2.873457e+00\n",
       "          std    8.894789e-01  1.744338e+00\n",
       "          min    5.000000e-01  1.000000e+00\n",
       "          25%    1.000000e+00  2.000000e+00\n",
       "          50%    1.000000e+00  2.500000e+00\n",
       "          75%    2.000000e+00  3.500000e+00\n",
       "          max    2.500000e+01  3.000000e+01\n",
       "garage    count  3.850000e+03  4.321000e+03\n",
       "          mean   1.393636e+00  2.712798e+00\n",
       "          std    6.952861e-01  2.160600e+00\n",
       "          min    1.000000e+00  1.000000e+00\n",
       "          25%    1.000000e+00  2.000000e+00\n",
       "          50%    1.000000e+00  2.000000e+00\n",
       "          75%    2.000000e+00  3.000000e+00\n",
       "          max    1.500000e+01  5.800000e+01\n",
       "floorSize count  6.430000e+03  4.136000e+03\n",
       "          mean   9.998323e+01  4.304663e+02\n",
       "          std    8.315840e+01  2.476696e+02\n",
       "          min    1.700000e+01  2.600000e+01\n",
       "          25%    5.600000e+01  2.120000e+02\n",
       "          50%    7.800000e+01  4.100000e+02\n",
       "          75%    1.100000e+02  5.970000e+02\n",
       "          max    2.203000e+03  9.980000e+02"
      ]
     },
     "execution_count": 178,
     "metadata": {},
     "output_type": "execute_result"
    }
   ],
   "source": [
    "housePrice.groupby(by = \"propertyType\").describe().transpose()"
   ]
  },
  {
   "cell_type": "markdown",
   "metadata": {},
   "source": [
    "The numerical variables appear to have a non-normal distribution. Check for skewness quantiatively\n",
    "and perform a log transformation"
   ]
  },
  {
   "cell_type": "code",
   "execution_count": 179,
   "metadata": {},
   "outputs": [],
   "source": [
    "#log transform target (price)\n",
    "housePrice.iloc[:,0] = np.log1p(housePrice.iloc[:,0])"
   ]
  },
  {
   "cell_type": "code",
   "execution_count": 180,
   "metadata": {},
   "outputs": [],
   "source": [
    "#make a list of the numerical columns\n",
    "numeric_feats = housePrice.dtypes[housePrice.dtypes != \"object\"].index"
   ]
  },
  {
   "cell_type": "code",
   "execution_count": 181,
   "metadata": {},
   "outputs": [
    {
     "data": {
      "text/plain": [
       "Index(['price', 'bedroom', 'bathroom', 'garage', 'floorSize'], dtype='object')"
      ]
     },
     "execution_count": 181,
     "metadata": {},
     "output_type": "execute_result"
    }
   ],
   "source": [
    "numeric_feats"
   ]
  },
  {
   "cell_type": "code",
   "execution_count": 182,
   "metadata": {},
   "outputs": [],
   "source": [
    "#check for positive skewness\n",
    "skewed_feats = housePrice[numeric_feats].apply(lambda x: skew(x.dropna()))\n",
    "skewed_feats = skewed_feats[skewed_feats > 0.75].index"
   ]
  },
  {
   "cell_type": "code",
   "execution_count": 183,
   "metadata": {},
   "outputs": [
    {
     "data": {
      "text/plain": [
       "Index(['bedroom', 'bathroom', 'garage', 'floorSize'], dtype='object')"
      ]
     },
     "execution_count": 183,
     "metadata": {},
     "output_type": "execute_result"
    }
   ],
   "source": [
    "skewed_feats"
   ]
  },
  {
   "cell_type": "code",
   "execution_count": 184,
   "metadata": {},
   "outputs": [
    {
     "name": "stderr",
     "output_type": "stream",
     "text": [
      "C:\\Users\\Martin\\Anaconda3\\lib\\site-packages\\ipykernel_launcher.py:2: RuntimeWarning: invalid value encountered in log1p\n",
      "  \n"
     ]
    }
   ],
   "source": [
    "#overwrite skewed columns with log transformation\n",
    "housePrice[skewed_feats] = np.log1p(housePrice[skewed_feats])"
   ]
  },
  {
   "cell_type": "code",
   "execution_count": 185,
   "metadata": {},
   "outputs": [
    {
     "data": {
      "text/html": [
       "<div>\n",
       "<style scoped>\n",
       "    .dataframe tbody tr th:only-of-type {\n",
       "        vertical-align: middle;\n",
       "    }\n",
       "\n",
       "    .dataframe tbody tr th {\n",
       "        vertical-align: top;\n",
       "    }\n",
       "\n",
       "    .dataframe thead th {\n",
       "        text-align: right;\n",
       "    }\n",
       "</style>\n",
       "<table border=\"1\" class=\"dataframe\">\n",
       "  <thead>\n",
       "    <tr style=\"text-align: right;\">\n",
       "      <th></th>\n",
       "      <th>price</th>\n",
       "      <th>bedroom</th>\n",
       "      <th>bathroom</th>\n",
       "      <th>garage</th>\n",
       "      <th>floorSize</th>\n",
       "    </tr>\n",
       "  </thead>\n",
       "  <tbody>\n",
       "    <tr>\n",
       "      <td>count</td>\n",
       "      <td>11970.000000</td>\n",
       "      <td>11770.000000</td>\n",
       "      <td>11367.000000</td>\n",
       "      <td>8171.000000</td>\n",
       "      <td>10566.000000</td>\n",
       "    </tr>\n",
       "    <tr>\n",
       "      <td>mean</td>\n",
       "      <td>15.165514</td>\n",
       "      <td>1.234756</td>\n",
       "      <td>1.062287</td>\n",
       "      <td>1.035614</td>\n",
       "      <td>4.990430</td>\n",
       "    </tr>\n",
       "    <tr>\n",
       "      <td>std</td>\n",
       "      <td>0.935578</td>\n",
       "      <td>0.382144</td>\n",
       "      <td>0.372243</td>\n",
       "      <td>0.392457</td>\n",
       "      <td>0.931751</td>\n",
       "    </tr>\n",
       "    <tr>\n",
       "      <td>min</td>\n",
       "      <td>12.201065</td>\n",
       "      <td>0.405465</td>\n",
       "      <td>0.405465</td>\n",
       "      <td>0.693147</td>\n",
       "      <td>2.890372</td>\n",
       "    </tr>\n",
       "    <tr>\n",
       "      <td>25%</td>\n",
       "      <td>14.483340</td>\n",
       "      <td>1.098612</td>\n",
       "      <td>0.693147</td>\n",
       "      <td>0.693147</td>\n",
       "      <td>4.234107</td>\n",
       "    </tr>\n",
       "    <tr>\n",
       "      <td>50%</td>\n",
       "      <td>14.994166</td>\n",
       "      <td>1.098612</td>\n",
       "      <td>1.098612</td>\n",
       "      <td>1.098612</td>\n",
       "      <td>4.762174</td>\n",
       "    </tr>\n",
       "    <tr>\n",
       "      <td>75%</td>\n",
       "      <td>15.754252</td>\n",
       "      <td>1.386294</td>\n",
       "      <td>1.386294</td>\n",
       "      <td>1.098612</td>\n",
       "      <td>5.767539</td>\n",
       "    </tr>\n",
       "    <tr>\n",
       "      <td>max</td>\n",
       "      <td>18.965908</td>\n",
       "      <td>3.526361</td>\n",
       "      <td>3.433987</td>\n",
       "      <td>4.077537</td>\n",
       "      <td>7.698029</td>\n",
       "    </tr>\n",
       "  </tbody>\n",
       "</table>\n",
       "</div>"
      ],
      "text/plain": [
       "              price       bedroom      bathroom       garage     floorSize\n",
       "count  11970.000000  11770.000000  11367.000000  8171.000000  10566.000000\n",
       "mean      15.165514      1.234756      1.062287     1.035614      4.990430\n",
       "std        0.935578      0.382144      0.372243     0.392457      0.931751\n",
       "min       12.201065      0.405465      0.405465     0.693147      2.890372\n",
       "25%       14.483340      1.098612      0.693147     0.693147      4.234107\n",
       "50%       14.994166      1.098612      1.098612     1.098612      4.762174\n",
       "75%       15.754252      1.386294      1.386294     1.098612      5.767539\n",
       "max       18.965908      3.526361      3.433987     4.077537      7.698029"
      ]
     },
     "execution_count": 185,
     "metadata": {},
     "output_type": "execute_result"
    }
   ],
   "source": [
    "housePrice.describe()"
   ]
  },
  {
   "cell_type": "markdown",
   "metadata": {},
   "source": [
    "See distributions of log transformed columns"
   ]
  },
  {
   "cell_type": "code",
   "execution_count": 186,
   "metadata": {},
   "outputs": [
    {
     "data": {
      "image/png": "[encoded data removed]",
      "text/plain": [
       "<Figure size 432x288 with 1 Axes>"
      ]
     },
     "metadata": {
      "needs_background": "light"
     },
     "output_type": "display_data"
    },
    {
     "data": {
      "image/png": "[encoded data removed]",
      "text/plain": [
       "<Figure size 432x288 with 1 Axes>"
      ]
     },
     "metadata": {
      "needs_background": "light"
     },
     "output_type": "display_data"
    },
    {
     "data": {
      "image/png": "[encoded data removed]",
      "text/plain": [
       "<Figure size 432x288 with 1 Axes>"
      ]
     },
     "metadata": {
      "needs_background": "light"
     },
     "output_type": "display_data"
    },
    {
     "data": {
      "image/png": "[encoded data removed]",
      "text/plain": [
       "<Figure size 432x288 with 1 Axes>"
      ]
     },
     "metadata": {
      "needs_background": "light"
     },
     "output_type": "display_data"
    },
    {
     "data": {
      "image/png": "[encoded data removed]",
      "text/plain": [
       "<Figure size 432x288 with 1 Axes>"
      ]
     },
     "metadata": {
      "needs_background": "light"
     },
     "output_type": "display_data"
    }
   ],
   "source": [
    "housePrice.iloc[:,0].hist(); plt.show()\n",
    "housePrice.iloc[:,2].hist(); plt.show()\n",
    "housePrice.iloc[:,3].hist(); plt.show()\n",
    "housePrice.iloc[:,4].hist(); plt.show()\n",
    "housePrice.iloc[:,5].hist(); plt.show()"
   ]
  },
  {
   "cell_type": "markdown",
   "metadata": {},
   "source": [
    "Fill the missing numerical values with the mean of that column"
   ]
  },
  {
   "cell_type": "code",
   "execution_count": 187,
   "metadata": {
    "pycharm": {
     "name": "#%%\n"
    }
   },
   "outputs": [],
   "source": [
    "housePrice[numeric_feats] = housePrice[numeric_feats].fillna(housePrice[numeric_feats].mean())"
   ]
  },
  {
   "cell_type": "markdown",
   "metadata": {
    "pycharm": {
     "name": "#%% md\n"
    }
   },
   "source": [
    "Remove rows that belong to a suburb with fewer than 80 houses"
   ]
  },
  {
   "cell_type": "code",
   "execution_count": 188,
   "metadata": {
    "pycharm": {
     "name": "#%%\n"
    }
   },
   "outputs": [],
   "source": [
    "#generate a Boolean list for the levels of the location variable that\n",
    "#have a prevalence of more than 80\n",
    "location_mask = housePrice[\"location\"].value_counts() > 80\n",
    "#extract the names of the suburbs that appear more than 80 ties\n",
    "locations = location_mask.index[location_mask]\n",
    "#generate a boolean mask to filter the rows based on the location column\n",
    "bool_loc = []\n",
    "for loc in housePrice[\"location\"]:\n",
    "    bool_loc.append(loc in locations)\n",
    "#remove rows with suburbs with too little data\n",
    "housePrice = housePrice[bool_loc]"
   ]
  },
  {
   "cell_type": "markdown",
   "metadata": {},
   "source": [
    "Encode the categorical features as dummy variables. Drop first to avoid duplicate information."
   ]
  },
  {
   "cell_type": "code",
   "execution_count": 189,
   "metadata": {
    "pycharm": {
     "name": "#%%\n"
    }
   },
   "outputs": [],
   "source": [
    "housePrice = pd.get_dummies(housePrice, drop_first=True)"
   ]
  },
  {
   "cell_type": "code",
   "execution_count": 154,
   "metadata": {},
   "outputs": [
    {
     "data": {
      "text/html": [
       "<div>\n",
       "<style scoped>\n",
       "    .dataframe tbody tr th:only-of-type {\n",
       "        vertical-align: middle;\n",
       "    }\n",
       "\n",
       "    .dataframe tbody tr th {\n",
       "        vertical-align: top;\n",
       "    }\n",
       "\n",
       "    .dataframe thead th {\n",
       "        text-align: right;\n",
       "    }\n",
       "</style>\n",
       "<table border=\"1\" class=\"dataframe\">\n",
       "  <thead>\n",
       "    <tr style=\"text-align: right;\">\n",
       "      <th></th>\n",
       "      <th>price</th>\n",
       "      <th>bedroom</th>\n",
       "      <th>bathroom</th>\n",
       "      <th>garage</th>\n",
       "      <th>floorSize</th>\n",
       "      <th>location_Camps Bay</th>\n",
       "      <th>location_Cape Town City Centre</th>\n",
       "      <th>location_Claremont</th>\n",
       "      <th>location_Claremont Upper</th>\n",
       "      <th>location_Clifton</th>\n",
       "      <th>...</th>\n",
       "      <th>location_Tamboerskloof</th>\n",
       "      <th>location_Three Anchor Bay</th>\n",
       "      <th>location_Tokai</th>\n",
       "      <th>location_Vredehoek</th>\n",
       "      <th>location_Waterfront</th>\n",
       "      <th>location_Woodstock</th>\n",
       "      <th>location_Wynberg</th>\n",
       "      <th>location_Wynberg Upper</th>\n",
       "      <th>location_Zonnebloem</th>\n",
       "      <th>propertyType_House</th>\n",
       "    </tr>\n",
       "  </thead>\n",
       "  <tbody>\n",
       "    <tr>\n",
       "      <td>0</td>\n",
       "      <td>-0.815329</td>\n",
       "      <td>-0.356278</td>\n",
       "      <td>-0.991708</td>\n",
       "      <td>-0.872676</td>\n",
       "      <td>2.747319e-16</td>\n",
       "      <td>0</td>\n",
       "      <td>0</td>\n",
       "      <td>0</td>\n",
       "      <td>0</td>\n",
       "      <td>0</td>\n",
       "      <td>...</td>\n",
       "      <td>0</td>\n",
       "      <td>0</td>\n",
       "      <td>0</td>\n",
       "      <td>0</td>\n",
       "      <td>0</td>\n",
       "      <td>0</td>\n",
       "      <td>0</td>\n",
       "      <td>0</td>\n",
       "      <td>1</td>\n",
       "      <td>0</td>\n",
       "    </tr>\n",
       "    <tr>\n",
       "      <td>1</td>\n",
       "      <td>0.417367</td>\n",
       "      <td>0.396565</td>\n",
       "      <td>0.870458</td>\n",
       "      <td>0.160532</td>\n",
       "      <td>5.869914e-01</td>\n",
       "      <td>0</td>\n",
       "      <td>0</td>\n",
       "      <td>0</td>\n",
       "      <td>0</td>\n",
       "      <td>0</td>\n",
       "      <td>...</td>\n",
       "      <td>0</td>\n",
       "      <td>0</td>\n",
       "      <td>0</td>\n",
       "      <td>0</td>\n",
       "      <td>0</td>\n",
       "      <td>0</td>\n",
       "      <td>0</td>\n",
       "      <td>0</td>\n",
       "      <td>0</td>\n",
       "      <td>1</td>\n",
       "    </tr>\n",
       "    <tr>\n",
       "      <td>2</td>\n",
       "      <td>0.875485</td>\n",
       "      <td>-0.356278</td>\n",
       "      <td>0.097590</td>\n",
       "      <td>0.160532</td>\n",
       "      <td>1.932514e-01</td>\n",
       "      <td>0</td>\n",
       "      <td>0</td>\n",
       "      <td>0</td>\n",
       "      <td>0</td>\n",
       "      <td>0</td>\n",
       "      <td>...</td>\n",
       "      <td>0</td>\n",
       "      <td>0</td>\n",
       "      <td>0</td>\n",
       "      <td>0</td>\n",
       "      <td>0</td>\n",
       "      <td>0</td>\n",
       "      <td>0</td>\n",
       "      <td>0</td>\n",
       "      <td>0</td>\n",
       "      <td>0</td>\n",
       "    </tr>\n",
       "    <tr>\n",
       "      <td>3</td>\n",
       "      <td>-0.352046</td>\n",
       "      <td>0.396565</td>\n",
       "      <td>0.511721</td>\n",
       "      <td>0.893605</td>\n",
       "      <td>-5.236406e-02</td>\n",
       "      <td>0</td>\n",
       "      <td>0</td>\n",
       "      <td>0</td>\n",
       "      <td>0</td>\n",
       "      <td>0</td>\n",
       "      <td>...</td>\n",
       "      <td>0</td>\n",
       "      <td>0</td>\n",
       "      <td>0</td>\n",
       "      <td>0</td>\n",
       "      <td>0</td>\n",
       "      <td>0</td>\n",
       "      <td>0</td>\n",
       "      <td>0</td>\n",
       "      <td>0</td>\n",
       "      <td>1</td>\n",
       "    </tr>\n",
       "    <tr>\n",
       "      <td>4</td>\n",
       "      <td>0.471303</td>\n",
       "      <td>0.396565</td>\n",
       "      <td>0.870458</td>\n",
       "      <td>0.893605</td>\n",
       "      <td>2.747319e-16</td>\n",
       "      <td>0</td>\n",
       "      <td>0</td>\n",
       "      <td>0</td>\n",
       "      <td>0</td>\n",
       "      <td>0</td>\n",
       "      <td>...</td>\n",
       "      <td>0</td>\n",
       "      <td>0</td>\n",
       "      <td>0</td>\n",
       "      <td>0</td>\n",
       "      <td>0</td>\n",
       "      <td>0</td>\n",
       "      <td>0</td>\n",
       "      <td>0</td>\n",
       "      <td>0</td>\n",
       "      <td>1</td>\n",
       "    </tr>\n",
       "  </tbody>\n",
       "</table>\n",
       "<p>5 rows × 43 columns</p>\n",
       "</div>"
      ],
      "text/plain": [
       "      price   bedroom  bathroom    garage     floorSize  location_Camps Bay  \\\n",
       "0 -0.815329 -0.356278 -0.991708 -0.872676  2.747319e-16                   0   \n",
       "1  0.417367  0.396565  0.870458  0.160532  5.869914e-01                   0   \n",
       "2  0.875485 -0.356278  0.097590  0.160532  1.932514e-01                   0   \n",
       "3 -0.352046  0.396565  0.511721  0.893605 -5.236406e-02                   0   \n",
       "4  0.471303  0.396565  0.870458  0.893605  2.747319e-16                   0   \n",
       "\n",
       "   location_Cape Town City Centre  location_Claremont  \\\n",
       "0                               0                   0   \n",
       "1                               0                   0   \n",
       "2                               0                   0   \n",
       "3                               0                   0   \n",
       "4                               0                   0   \n",
       "\n",
       "   location_Claremont Upper  location_Clifton  ...  location_Tamboerskloof  \\\n",
       "0                         0                 0  ...                       0   \n",
       "1                         0                 0  ...                       0   \n",
       "2                         0                 0  ...                       0   \n",
       "3                         0                 0  ...                       0   \n",
       "4                         0                 0  ...                       0   \n",
       "\n",
       "   location_Three Anchor Bay  location_Tokai  location_Vredehoek  \\\n",
       "0                          0               0                   0   \n",
       "1                          0               0                   0   \n",
       "2                          0               0                   0   \n",
       "3                          0               0                   0   \n",
       "4                          0               0                   0   \n",
       "\n",
       "   location_Waterfront  location_Woodstock  location_Wynberg  \\\n",
       "0                    0                   0                 0   \n",
       "1                    0                   0                 0   \n",
       "2                    0                   0                 0   \n",
       "3                    0                   0                 0   \n",
       "4                    0                   0                 0   \n",
       "\n",
       "   location_Wynberg Upper  location_Zonnebloem  propertyType_House  \n",
       "0                       0                    1                   0  \n",
       "1                       0                    0                   1  \n",
       "2                       0                    0                   0  \n",
       "3                       0                    0                   1  \n",
       "4                       0                    0                   1  \n",
       "\n",
       "[5 rows x 43 columns]"
      ]
     },
     "execution_count": 154,
     "metadata": {},
     "output_type": "execute_result"
    }
   ],
   "source": [
    "housePrice.head()"
   ]
  },
  {
   "cell_type": "markdown",
   "metadata": {},
   "source": [
    "## Modelling\n"
   ]
  },
  {
   "cell_type": "markdown",
   "metadata": {},
   "source": [
    "Split the data into target (y) and features (X)"
   ]
  },
  {
   "cell_type": "code",
   "execution_count": 190,
   "metadata": {
    "pycharm": {
     "name": "#%%\n"
    }
   },
   "outputs": [],
   "source": [
    "X = housePrice.iloc[:,1:]\n",
    "y = housePrice.iloc[:,0]"
   ]
  },
  {
   "cell_type": "code",
   "execution_count": 191,
   "metadata": {},
   "outputs": [
    {
     "data": {
      "text/html": [
       "<div>\n",
       "<style scoped>\n",
       "    .dataframe tbody tr th:only-of-type {\n",
       "        vertical-align: middle;\n",
       "    }\n",
       "\n",
       "    .dataframe tbody tr th {\n",
       "        vertical-align: top;\n",
       "    }\n",
       "\n",
       "    .dataframe thead th {\n",
       "        text-align: right;\n",
       "    }\n",
       "</style>\n",
       "<table border=\"1\" class=\"dataframe\">\n",
       "  <thead>\n",
       "    <tr style=\"text-align: right;\">\n",
       "      <th></th>\n",
       "      <th>bedroom</th>\n",
       "      <th>bathroom</th>\n",
       "      <th>garage</th>\n",
       "      <th>floorSize</th>\n",
       "      <th>location_Camps Bay</th>\n",
       "      <th>location_Cape Town City Centre</th>\n",
       "      <th>location_Claremont</th>\n",
       "      <th>location_Claremont Upper</th>\n",
       "      <th>location_Clifton</th>\n",
       "      <th>location_Constantia</th>\n",
       "      <th>...</th>\n",
       "      <th>location_Tamboerskloof</th>\n",
       "      <th>location_Three Anchor Bay</th>\n",
       "      <th>location_Tokai</th>\n",
       "      <th>location_Vredehoek</th>\n",
       "      <th>location_Waterfront</th>\n",
       "      <th>location_Woodstock</th>\n",
       "      <th>location_Wynberg</th>\n",
       "      <th>location_Wynberg Upper</th>\n",
       "      <th>location_Zonnebloem</th>\n",
       "      <th>propertyType_House</th>\n",
       "    </tr>\n",
       "  </thead>\n",
       "  <tbody>\n",
       "    <tr>\n",
       "      <td>0</td>\n",
       "      <td>1.098612</td>\n",
       "      <td>0.693147</td>\n",
       "      <td>0.693147</td>\n",
       "      <td>4.990430</td>\n",
       "      <td>0</td>\n",
       "      <td>0</td>\n",
       "      <td>0</td>\n",
       "      <td>0</td>\n",
       "      <td>0</td>\n",
       "      <td>0</td>\n",
       "      <td>...</td>\n",
       "      <td>0</td>\n",
       "      <td>0</td>\n",
       "      <td>0</td>\n",
       "      <td>0</td>\n",
       "      <td>0</td>\n",
       "      <td>0</td>\n",
       "      <td>0</td>\n",
       "      <td>0</td>\n",
       "      <td>1</td>\n",
       "      <td>0</td>\n",
       "    </tr>\n",
       "    <tr>\n",
       "      <td>1</td>\n",
       "      <td>1.386294</td>\n",
       "      <td>1.386294</td>\n",
       "      <td>1.098612</td>\n",
       "      <td>5.537334</td>\n",
       "      <td>0</td>\n",
       "      <td>0</td>\n",
       "      <td>0</td>\n",
       "      <td>0</td>\n",
       "      <td>0</td>\n",
       "      <td>1</td>\n",
       "      <td>...</td>\n",
       "      <td>0</td>\n",
       "      <td>0</td>\n",
       "      <td>0</td>\n",
       "      <td>0</td>\n",
       "      <td>0</td>\n",
       "      <td>0</td>\n",
       "      <td>0</td>\n",
       "      <td>0</td>\n",
       "      <td>0</td>\n",
       "      <td>1</td>\n",
       "    </tr>\n",
       "    <tr>\n",
       "      <td>2</td>\n",
       "      <td>1.098612</td>\n",
       "      <td>1.098612</td>\n",
       "      <td>1.098612</td>\n",
       "      <td>5.170484</td>\n",
       "      <td>0</td>\n",
       "      <td>0</td>\n",
       "      <td>0</td>\n",
       "      <td>0</td>\n",
       "      <td>0</td>\n",
       "      <td>0</td>\n",
       "      <td>...</td>\n",
       "      <td>0</td>\n",
       "      <td>0</td>\n",
       "      <td>0</td>\n",
       "      <td>0</td>\n",
       "      <td>0</td>\n",
       "      <td>0</td>\n",
       "      <td>0</td>\n",
       "      <td>0</td>\n",
       "      <td>0</td>\n",
       "      <td>0</td>\n",
       "    </tr>\n",
       "    <tr>\n",
       "      <td>3</td>\n",
       "      <td>1.386294</td>\n",
       "      <td>1.252763</td>\n",
       "      <td>1.386294</td>\n",
       "      <td>4.941642</td>\n",
       "      <td>0</td>\n",
       "      <td>0</td>\n",
       "      <td>0</td>\n",
       "      <td>0</td>\n",
       "      <td>0</td>\n",
       "      <td>0</td>\n",
       "      <td>...</td>\n",
       "      <td>0</td>\n",
       "      <td>0</td>\n",
       "      <td>0</td>\n",
       "      <td>0</td>\n",
       "      <td>0</td>\n",
       "      <td>0</td>\n",
       "      <td>0</td>\n",
       "      <td>0</td>\n",
       "      <td>0</td>\n",
       "      <td>1</td>\n",
       "    </tr>\n",
       "    <tr>\n",
       "      <td>4</td>\n",
       "      <td>1.386294</td>\n",
       "      <td>1.386294</td>\n",
       "      <td>1.386294</td>\n",
       "      <td>4.990430</td>\n",
       "      <td>0</td>\n",
       "      <td>0</td>\n",
       "      <td>0</td>\n",
       "      <td>0</td>\n",
       "      <td>0</td>\n",
       "      <td>1</td>\n",
       "      <td>...</td>\n",
       "      <td>0</td>\n",
       "      <td>0</td>\n",
       "      <td>0</td>\n",
       "      <td>0</td>\n",
       "      <td>0</td>\n",
       "      <td>0</td>\n",
       "      <td>0</td>\n",
       "      <td>0</td>\n",
       "      <td>0</td>\n",
       "      <td>1</td>\n",
       "    </tr>\n",
       "  </tbody>\n",
       "</table>\n",
       "<p>5 rows × 42 columns</p>\n",
       "</div>"
      ],
      "text/plain": [
       "    bedroom  bathroom    garage  floorSize  location_Camps Bay  \\\n",
       "0  1.098612  0.693147  0.693147   4.990430                   0   \n",
       "1  1.386294  1.386294  1.098612   5.537334                   0   \n",
       "2  1.098612  1.098612  1.098612   5.170484                   0   \n",
       "3  1.386294  1.252763  1.386294   4.941642                   0   \n",
       "4  1.386294  1.386294  1.386294   4.990430                   0   \n",
       "\n",
       "   location_Cape Town City Centre  location_Claremont  \\\n",
       "0                               0                   0   \n",
       "1                               0                   0   \n",
       "2                               0                   0   \n",
       "3                               0                   0   \n",
       "4                               0                   0   \n",
       "\n",
       "   location_Claremont Upper  location_Clifton  location_Constantia  ...  \\\n",
       "0                         0                 0                    0  ...   \n",
       "1                         0                 0                    1  ...   \n",
       "2                         0                 0                    0  ...   \n",
       "3                         0                 0                    0  ...   \n",
       "4                         0                 0                    1  ...   \n",
       "\n",
       "   location_Tamboerskloof  location_Three Anchor Bay  location_Tokai  \\\n",
       "0                       0                          0               0   \n",
       "1                       0                          0               0   \n",
       "2                       0                          0               0   \n",
       "3                       0                          0               0   \n",
       "4                       0                          0               0   \n",
       "\n",
       "   location_Vredehoek  location_Waterfront  location_Woodstock  \\\n",
       "0                   0                    0                   0   \n",
       "1                   0                    0                   0   \n",
       "2                   0                    0                   0   \n",
       "3                   0                    0                   0   \n",
       "4                   0                    0                   0   \n",
       "\n",
       "   location_Wynberg  location_Wynberg Upper  location_Zonnebloem  \\\n",
       "0                 0                       0                    1   \n",
       "1                 0                       0                    0   \n",
       "2                 0                       0                    0   \n",
       "3                 0                       0                    0   \n",
       "4                 0                       0                    0   \n",
       "\n",
       "   propertyType_House  \n",
       "0                   0  \n",
       "1                   1  \n",
       "2                   0  \n",
       "3                   1  \n",
       "4                   1  \n",
       "\n",
       "[5 rows x 42 columns]"
      ]
     },
     "execution_count": 191,
     "metadata": {},
     "output_type": "execute_result"
    }
   ],
   "source": [
    "X.head()"
   ]
  },
  {
   "cell_type": "code",
   "execution_count": 192,
   "metadata": {},
   "outputs": [
    {
     "data": {
      "text/plain": [
       "0    14.402742\n",
       "1    15.555977\n",
       "2    15.984564\n",
       "3    14.836162\n",
       "4    15.606437\n",
       "Name: price, dtype: float64"
      ]
     },
     "execution_count": 192,
     "metadata": {},
     "output_type": "execute_result"
    }
   ],
   "source": [
    "y.head()"
   ]
  },
  {
   "cell_type": "markdown",
   "metadata": {},
   "source": [
    "Partition the data in a training and test set to perform a final evaluation of the models on a hold-out set"
   ]
  },
  {
   "cell_type": "code",
   "execution_count": 193,
   "metadata": {
    "pycharm": {
     "name": "#%%\n"
    }
   },
   "outputs": [],
   "source": [
    "#set the seed for all models\n",
    "SEED = 2509"
   ]
  },
  {
   "cell_type": "code",
   "execution_count": 194,
   "metadata": {
    "pycharm": {
     "name": "#%%\n"
    }
   },
   "outputs": [],
   "source": [
    "#make train/test split\n",
    "X_train, X_test, y_train, y_test = train_test_split(X, y, test_size = 0.2, random_state = SEED)"
   ]
  },
  {
   "cell_type": "markdown",
   "metadata": {
    "pycharm": {
     "name": "#%% md\n"
    }
   },
   "source": [
    "Define a function that will perform cross validation on a model and computes the root mean squared error"
   ]
  },
  {
   "cell_type": "code",
   "execution_count": 196,
   "metadata": {
    "pycharm": {
     "name": "#%%\n"
    }
   },
   "outputs": [],
   "source": [
    "def rmse_cv(model):\n",
    "    rmse = np.sqrt(np.abs(cross_val_score(model, X_train, y_train, scoring=\"neg_mean_squared_error\", cv = 5)))\n",
    "    return(rmse)"
   ]
  },
  {
   "cell_type": "markdown",
   "metadata": {
    "pycharm": {
     "name": "#%% md\n"
    }
   },
   "source": [
    "### Model 1: Linear Regression"
   ]
  },
  {
   "cell_type": "code",
   "execution_count": 197,
   "metadata": {},
   "outputs": [
    {
     "name": "stdout",
     "output_type": "stream",
     "text": [
      "CV RMSE for Linear Regression 0.35861158575254304\n"
     ]
    }
   ],
   "source": [
    "#instantiate linear regression model\n",
    "linreg = LinearRegression()\n",
    "#run cross validation function to obtain the RMSE\n",
    "cv_linreg = rmse_cv(linreg).mean()\n",
    "print(\"CV RMSE for Linear Regression\", cv_linreg)"
   ]
  },
  {
   "cell_type": "markdown",
   "metadata": {},
   "source": [
    "Fit linear regression model directly for test set prediction"
   ]
  },
  {
   "cell_type": "code",
   "execution_count": 198,
   "metadata": {},
   "outputs": [
    {
     "data": {
      "text/plain": [
       "LinearRegression(copy_X=True, fit_intercept=True, n_jobs=None, normalize=False)"
      ]
     },
     "execution_count": 198,
     "metadata": {},
     "output_type": "execute_result"
    }
   ],
   "source": [
    "linreg.fit(X_train, y_train)"
   ]
  },
  {
   "cell_type": "markdown",
   "metadata": {},
   "source": [
    "### Model 2: Ridge Regression   "
   ]
  },
  {
   "cell_type": "code",
   "execution_count": 199,
   "metadata": {},
   "outputs": [],
   "source": [
    "#define hyperparameters to test\n",
    "alphas = np.arange(0.0000, 1, 0.05)"
   ]
  },
  {
   "cell_type": "code",
   "execution_count": 200,
   "metadata": {
    "pycharm": {
     "name": "#%%\n"
    }
   },
   "outputs": [
    {
     "data": {
      "image/png": "[encoded data removed]",
      "text/plain": [
       "<Figure size 432x288 with 1 Axes>"
      ]
     },
     "metadata": {
      "needs_background": "light"
     },
     "output_type": "display_data"
    }
   ],
   "source": [
    "#use list comprehension to iterate through the hyperparameters and obtain CV RMSE using the defined RMSE model function\n",
    "cv_ridge = [rmse_cv(Ridge(alpha = alf)).mean() for alf in alphas]\n",
    "cv_ridge = pd.Series(cv_ridge, index=alphas)\n",
    "\n",
    "#plot searched hyperparamters vs RMSE\n",
    "cv_ridge.plot(title = \"Validation\"); plt.xlabel(\"alpha\"); plt.ylabel(\"rmse\"); plt.show()"
   ]
  },
  {
   "cell_type": "code",
   "execution_count": 201,
   "metadata": {
    "pycharm": {
     "name": "#%%\n"
    }
   },
   "outputs": [
    {
     "name": "stdout",
     "output_type": "stream",
     "text": [
      "CV RMSE for Ridge Regression 0.35861158575254304\n"
     ]
    }
   ],
   "source": [
    "print(\"CV RMSE for Ridge Regression\",cv_ridge.min())"
   ]
  },
  {
   "cell_type": "markdown",
   "metadata": {},
   "source": [
    "### Model 3: Lasso Regression   "
   ]
  },
  {
   "cell_type": "code",
   "execution_count": 202,
   "metadata": {},
   "outputs": [
    {
     "name": "stderr",
     "output_type": "stream",
     "text": [
      "C:\\Users\\Martin\\Anaconda3\\lib\\site-packages\\sklearn\\model_selection\\_validation.py:516: UserWarning: With alpha=0, this algorithm does not converge well. You are advised to use the LinearRegression estimator\n",
      "  estimator.fit(X_train, y_train, **fit_params)\n",
      "C:\\Users\\Martin\\Anaconda3\\lib\\site-packages\\sklearn\\linear_model\\coordinate_descent.py:475: UserWarning: Coordinate descent with no regularization may lead to unexpected results and is discouraged.\n",
      "  positive)\n",
      "C:\\Users\\Martin\\Anaconda3\\lib\\site-packages\\sklearn\\linear_model\\coordinate_descent.py:475: ConvergenceWarning: Objective did not converge. You might want to increase the number of iterations. Duality gap: 412.9122707289364, tolerance: 0.528479113156257\n",
      "  positive)\n",
      "C:\\Users\\Martin\\Anaconda3\\lib\\site-packages\\sklearn\\model_selection\\_validation.py:516: UserWarning: With alpha=0, this algorithm does not converge well. You are advised to use the LinearRegression estimator\n",
      "  estimator.fit(X_train, y_train, **fit_params)\n",
      "C:\\Users\\Martin\\Anaconda3\\lib\\site-packages\\sklearn\\linear_model\\coordinate_descent.py:475: UserWarning: Coordinate descent with no regularization may lead to unexpected results and is discouraged.\n",
      "  positive)\n",
      "C:\\Users\\Martin\\Anaconda3\\lib\\site-packages\\sklearn\\linear_model\\coordinate_descent.py:475: ConvergenceWarning: Objective did not converge. You might want to increase the number of iterations. Duality gap: 414.4303271008563, tolerance: 0.5312259428844291\n",
      "  positive)\n",
      "C:\\Users\\Martin\\Anaconda3\\lib\\site-packages\\sklearn\\model_selection\\_validation.py:516: UserWarning: With alpha=0, this algorithm does not converge well. You are advised to use the LinearRegression estimator\n",
      "  estimator.fit(X_train, y_train, **fit_params)\n",
      "C:\\Users\\Martin\\Anaconda3\\lib\\site-packages\\sklearn\\linear_model\\coordinate_descent.py:475: UserWarning: Coordinate descent with no regularization may lead to unexpected results and is discouraged.\n",
      "  positive)\n",
      "C:\\Users\\Martin\\Anaconda3\\lib\\site-packages\\sklearn\\linear_model\\coordinate_descent.py:475: ConvergenceWarning: Objective did not converge. You might want to increase the number of iterations. Duality gap: 404.6595287773862, tolerance: 0.5226164930357472\n",
      "  positive)\n",
      "C:\\Users\\Martin\\Anaconda3\\lib\\site-packages\\sklearn\\model_selection\\_validation.py:516: UserWarning: With alpha=0, this algorithm does not converge well. You are advised to use the LinearRegression estimator\n",
      "  estimator.fit(X_train, y_train, **fit_params)\n",
      "C:\\Users\\Martin\\Anaconda3\\lib\\site-packages\\sklearn\\linear_model\\coordinate_descent.py:475: UserWarning: Coordinate descent with no regularization may lead to unexpected results and is discouraged.\n",
      "  positive)\n",
      "C:\\Users\\Martin\\Anaconda3\\lib\\site-packages\\sklearn\\linear_model\\coordinate_descent.py:475: ConvergenceWarning: Objective did not converge. You might want to increase the number of iterations. Duality gap: 418.66940867664965, tolerance: 0.5332142768494826\n",
      "  positive)\n",
      "C:\\Users\\Martin\\Anaconda3\\lib\\site-packages\\sklearn\\model_selection\\_validation.py:516: UserWarning: With alpha=0, this algorithm does not converge well. You are advised to use the LinearRegression estimator\n",
      "  estimator.fit(X_train, y_train, **fit_params)\n",
      "C:\\Users\\Martin\\Anaconda3\\lib\\site-packages\\sklearn\\linear_model\\coordinate_descent.py:475: UserWarning: Coordinate descent with no regularization may lead to unexpected results and is discouraged.\n",
      "  positive)\n",
      "C:\\Users\\Martin\\Anaconda3\\lib\\site-packages\\sklearn\\linear_model\\coordinate_descent.py:475: ConvergenceWarning: Objective did not converge. You might want to increase the number of iterations. Duality gap: 420.1681070891912, tolerance: 0.5229226755343028\n",
      "  positive)\n"
     ]
    },
    {
     "data": {
      "image/png": "[encoded data removed]",
      "text/plain": [
       "<Figure size 432x288 with 1 Axes>"
      ]
     },
     "metadata": {
      "needs_background": "light"
     },
     "output_type": "display_data"
    }
   ],
   "source": [
    "#use list comprehension to iterate through the hyperparameters and obtain CV RMSE using the define RMSE model function\n",
    "cv_lasso = [rmse_cv(Lasso(alpha = alf)).mean() for alf in alphas]\n",
    "cv_lasso = pd.Series(cv_lasso, index=alphas)\n",
    "\n",
    "#plot searched hyperparamters vs RMSE\n",
    "cv_lasso.plot(title = \"Validation\"); plt.xlabel(\"alpha\"); plt.ylabel(\"rmse\"); plt.show()"
   ]
  },
  {
   "cell_type": "code",
   "execution_count": 203,
   "metadata": {
    "pycharm": {
     "name": "#%%\n"
    }
   },
   "outputs": [
    {
     "name": "stdout",
     "output_type": "stream",
     "text": [
      "CV RMSE for Lasso Regression 0.35861158575254304\n"
     ]
    }
   ],
   "source": [
    "print(\"CV RMSE for Lasso Regression\",cv_lasso.min())"
   ]
  },
  {
   "cell_type": "markdown",
   "metadata": {},
   "source": [
    "Fit the lasso model directly to plot the coefficients to see which features are important"
   ]
  },
  {
   "cell_type": "code",
   "execution_count": 210,
   "metadata": {},
   "outputs": [
    {
     "name": "stderr",
     "output_type": "stream",
     "text": [
      "C:\\Users\\Martin\\Anaconda3\\lib\\site-packages\\sklearn\\model_selection\\_split.py:1978: FutureWarning: The default value of cv will change from 3 to 5 in version 0.22. Specify it explicitly to silence this warning.\n",
      "  warnings.warn(CV_WARNING, FutureWarning)\n",
      "C:\\Users\\Martin\\Anaconda3\\lib\\site-packages\\sklearn\\linear_model\\coordinate_descent.py:471: UserWarning: Coordinate descent with alpha=0 may lead to unexpected results and is discouraged.\n",
      "  tol, rng, random, positive)\n",
      "C:\\Users\\Martin\\Anaconda3\\lib\\site-packages\\sklearn\\linear_model\\coordinate_descent.py:471: ConvergenceWarning: Objective did not converge. You might want to increase the number of iterations. Duality gap: 339.6958350165528, tolerance: 0.44236523293124286\n",
      "  tol, rng, random, positive)\n",
      "C:\\Users\\Martin\\Anaconda3\\lib\\site-packages\\sklearn\\linear_model\\coordinate_descent.py:471: UserWarning: Coordinate descent with alpha=0 may lead to unexpected results and is discouraged.\n",
      "  tol, rng, random, positive)\n",
      "C:\\Users\\Martin\\Anaconda3\\lib\\site-packages\\sklearn\\linear_model\\coordinate_descent.py:471: ConvergenceWarning: Objective did not converge. You might want to increase the number of iterations. Duality gap: 339.7631607656149, tolerance: 0.43689771244095704\n",
      "  tol, rng, random, positive)\n",
      "C:\\Users\\Martin\\Anaconda3\\lib\\site-packages\\sklearn\\linear_model\\coordinate_descent.py:471: UserWarning: Coordinate descent with alpha=0 may lead to unexpected results and is discouraged.\n",
      "  tol, rng, random, positive)\n",
      "C:\\Users\\Martin\\Anaconda3\\lib\\site-packages\\sklearn\\linear_model\\coordinate_descent.py:471: ConvergenceWarning: Objective did not converge. You might want to increase the number of iterations. Duality gap: 354.0599514130822, tolerance: 0.4398763201105555\n",
      "  tol, rng, random, positive)\n",
      "C:\\Users\\Martin\\Anaconda3\\lib\\site-packages\\sklearn\\linear_model\\coordinate_descent.py:1227: UserWarning: With alpha=0, this algorithm does not converge well. You are advised to use the LinearRegression estimator\n",
      "  model.fit(X, y)\n",
      "C:\\Users\\Martin\\Anaconda3\\lib\\site-packages\\sklearn\\linear_model\\coordinate_descent.py:475: UserWarning: Coordinate descent with no regularization may lead to unexpected results and is discouraged.\n",
      "  positive)\n",
      "C:\\Users\\Martin\\Anaconda3\\lib\\site-packages\\sklearn\\linear_model\\coordinate_descent.py:475: ConvergenceWarning: Objective did not converge. You might want to increase the number of iterations. Duality gap: 518.4425562268007, tolerance: 0.6596557352370789\n",
      "  positive)\n"
     ]
    },
    {
     "data": {
      "image/png": "[encoded data removed]",
      "text/plain": [
       "<Figure size 432x288 with 1 Axes>"
      ]
     },
     "metadata": {
      "needs_background": "light"
     },
     "output_type": "display_data"
    }
   ],
   "source": [
    "model_lasso = LassoCV(alphas = alphas).fit(X_train, y_train)\n",
    "\n",
    "coef = pd.Series(model_lasso.coef_, index = X_train.columns)\n",
    "imp_coef = pd.concat([coef.sort_values().head(10), coef.sort_values().tail(10)])\n",
    "imp_coef.plot(kind = \"barh\"); plt.title(\"Coefficients in the Lasso Model\"); plt.show()"
   ]
  },
  {
   "cell_type": "markdown",
   "metadata": {},
   "source": [
    "### Model 4: Random Forest Regression"
   ]
  },
  {
   "cell_type": "code",
   "execution_count": 204,
   "metadata": {
    "pycharm": {
     "name": "#%%\n"
    }
   },
   "outputs": [
    {
     "name": "stdout",
     "output_type": "stream",
     "text": [
      "Fitting 3 folds for each of 72 candidates, totalling 216 fits\n",
      "[CV] max_depth=3, max_features=auto, min_samples_leaf=1, min_samples_split=5, n_estimators=100 \n"
     ]
    },
    {
     "name": "stderr",
     "output_type": "stream",
     "text": [
      "[Parallel(n_jobs=1)]: Using backend SequentialBackend with 1 concurrent workers.\n"
     ]
    },
    {
     "name": "stdout",
     "output_type": "stream",
     "text": [
      "[CV]  max_depth=3, max_features=auto, min_samples_leaf=1, min_samples_split=5, n_estimators=100, total=   0.3s\n",
      "[CV] max_depth=3, max_features=auto, min_samples_leaf=1, min_samples_split=5, n_estimators=100 \n"
     ]
    },
    {
     "name": "stderr",
     "output_type": "stream",
     "text": [
      "[Parallel(n_jobs=1)]: Done   1 out of   1 | elapsed:    0.2s remaining:    0.0s\n"
     ]
    },
    {
     "name": "stdout",
     "output_type": "stream",
     "text": [
      "[CV]  max_depth=3, max_features=auto, min_samples_leaf=1, min_samples_split=5, n_estimators=100, total=   0.3s\n",
      "[CV] max_depth=3, max_features=auto, min_samples_leaf=1, min_samples_split=5, n_estimators=100 \n",
      "[CV]  max_depth=3, max_features=auto, min_samples_leaf=1, min_samples_split=5, n_estimators=100, total=   0.3s\n",
      "[CV] max_depth=3, max_features=auto, min_samples_leaf=1, min_samples_split=5, n_estimators=300 \n",
      "[CV]  max_depth=3, max_features=auto, min_samples_leaf=1, min_samples_split=5, n_estimators=300, total=   1.0s\n",
      "[CV] max_depth=3, max_features=auto, min_samples_leaf=1, min_samples_split=5, n_estimators=300 \n",
      "[CV]  max_depth=3, max_features=auto, min_samples_leaf=1, min_samples_split=5, n_estimators=300, total=   1.0s\n",
      "[CV] max_depth=3, max_features=auto, min_samples_leaf=1, min_samples_split=5, n_estimators=300 \n",
      "[CV]  max_depth=3, max_features=auto, min_samples_leaf=1, min_samples_split=5, n_estimators=300, total=   1.0s\n",
      "[CV] max_depth=3, max_features=auto, min_samples_leaf=1, min_samples_split=15, n_estimators=100 \n",
      "[CV]  max_depth=3, max_features=auto, min_samples_leaf=1, min_samples_split=15, n_estimators=100, total=   0.3s\n",
      "[CV] max_depth=3, max_features=auto, min_samples_leaf=1, min_samples_split=15, n_estimators=100 \n",
      "[CV]  max_depth=3, max_features=auto, min_samples_leaf=1, min_samples_split=15, n_estimators=100, total=   0.3s\n",
      "[CV] max_depth=3, max_features=auto, min_samples_leaf=1, min_samples_split=15, n_estimators=100 \n",
      "[CV]  max_depth=3, max_features=auto, min_samples_leaf=1, min_samples_split=15, n_estimators=100, total=   0.3s\n",
      "[CV] max_depth=3, max_features=auto, min_samples_leaf=1, min_samples_split=15, n_estimators=300 \n",
      "[CV]  max_depth=3, max_features=auto, min_samples_leaf=1, min_samples_split=15, n_estimators=300, total=   1.0s\n",
      "[CV] max_depth=3, max_features=auto, min_samples_leaf=1, min_samples_split=15, n_estimators=300 \n",
      "[CV]  max_depth=3, max_features=auto, min_samples_leaf=1, min_samples_split=15, n_estimators=300, total=   1.0s\n",
      "[CV] max_depth=3, max_features=auto, min_samples_leaf=1, min_samples_split=15, n_estimators=300 \n",
      "[CV]  max_depth=3, max_features=auto, min_samples_leaf=1, min_samples_split=15, n_estimators=300, total=   1.0s\n",
      "[CV] max_depth=3, max_features=auto, min_samples_leaf=1, min_samples_split=30, n_estimators=100 \n",
      "[CV]  max_depth=3, max_features=auto, min_samples_leaf=1, min_samples_split=30, n_estimators=100, total=   0.3s\n",
      "[CV] max_depth=3, max_features=auto, min_samples_leaf=1, min_samples_split=30, n_estimators=100 \n",
      "[CV]  max_depth=3, max_features=auto, min_samples_leaf=1, min_samples_split=30, n_estimators=100, total=   0.3s\n",
      "[CV] max_depth=3, max_features=auto, min_samples_leaf=1, min_samples_split=30, n_estimators=100 \n",
      "[CV]  max_depth=3, max_features=auto, min_samples_leaf=1, min_samples_split=30, n_estimators=100, total=   0.3s\n",
      "[CV] max_depth=3, max_features=auto, min_samples_leaf=1, min_samples_split=30, n_estimators=300 \n",
      "[CV]  max_depth=3, max_features=auto, min_samples_leaf=1, min_samples_split=30, n_estimators=300, total=   1.0s\n",
      "[CV] max_depth=3, max_features=auto, min_samples_leaf=1, min_samples_split=30, n_estimators=300 \n",
      "[CV]  max_depth=3, max_features=auto, min_samples_leaf=1, min_samples_split=30, n_estimators=300, total=   1.0s\n",
      "[CV] max_depth=3, max_features=auto, min_samples_leaf=1, min_samples_split=30, n_estimators=300 \n",
      "[CV]  max_depth=3, max_features=auto, min_samples_leaf=1, min_samples_split=30, n_estimators=300, total=   1.0s\n",
      "[CV] max_depth=3, max_features=auto, min_samples_leaf=5, min_samples_split=5, n_estimators=100 \n",
      "[CV]  max_depth=3, max_features=auto, min_samples_leaf=5, min_samples_split=5, n_estimators=100, total=   0.3s\n",
      "[CV] max_depth=3, max_features=auto, min_samples_leaf=5, min_samples_split=5, n_estimators=100 \n",
      "[CV]  max_depth=3, max_features=auto, min_samples_leaf=5, min_samples_split=5, n_estimators=100, total=   0.3s\n",
      "[CV] max_depth=3, max_features=auto, min_samples_leaf=5, min_samples_split=5, n_estimators=100 \n",
      "[CV]  max_depth=3, max_features=auto, min_samples_leaf=5, min_samples_split=5, n_estimators=100, total=   0.3s\n",
      "[CV] max_depth=3, max_features=auto, min_samples_leaf=5, min_samples_split=5, n_estimators=300 \n",
      "[CV]  max_depth=3, max_features=auto, min_samples_leaf=5, min_samples_split=5, n_estimators=300, total=   1.0s\n",
      "[CV] max_depth=3, max_features=auto, min_samples_leaf=5, min_samples_split=5, n_estimators=300 \n",
      "[CV]  max_depth=3, max_features=auto, min_samples_leaf=5, min_samples_split=5, n_estimators=300, total=   1.0s\n",
      "[CV] max_depth=3, max_features=auto, min_samples_leaf=5, min_samples_split=5, n_estimators=300 \n",
      "[CV]  max_depth=3, max_features=auto, min_samples_leaf=5, min_samples_split=5, n_estimators=300, total=   1.0s\n",
      "[CV] max_depth=3, max_features=auto, min_samples_leaf=5, min_samples_split=15, n_estimators=100 \n",
      "[CV]  max_depth=3, max_features=auto, min_samples_leaf=5, min_samples_split=15, n_estimators=100, total=   0.3s\n",
      "[CV] max_depth=3, max_features=auto, min_samples_leaf=5, min_samples_split=15, n_estimators=100 \n",
      "[CV]  max_depth=3, max_features=auto, min_samples_leaf=5, min_samples_split=15, n_estimators=100, total=   0.3s\n",
      "[CV] max_depth=3, max_features=auto, min_samples_leaf=5, min_samples_split=15, n_estimators=100 \n",
      "[CV]  max_depth=3, max_features=auto, min_samples_leaf=5, min_samples_split=15, n_estimators=100, total=   0.3s\n",
      "[CV] max_depth=3, max_features=auto, min_samples_leaf=5, min_samples_split=15, n_estimators=300 \n",
      "[CV]  max_depth=3, max_features=auto, min_samples_leaf=5, min_samples_split=15, n_estimators=300, total=   1.0s\n",
      "[CV] max_depth=3, max_features=auto, min_samples_leaf=5, min_samples_split=15, n_estimators=300 \n",
      "[CV]  max_depth=3, max_features=auto, min_samples_leaf=5, min_samples_split=15, n_estimators=300, total=   1.0s\n",
      "[CV] max_depth=3, max_features=auto, min_samples_leaf=5, min_samples_split=15, n_estimators=300 \n",
      "[CV]  max_depth=3, max_features=auto, min_samples_leaf=5, min_samples_split=15, n_estimators=300, total=   1.0s\n",
      "[CV] max_depth=3, max_features=auto, min_samples_leaf=5, min_samples_split=30, n_estimators=100 \n",
      "[CV]  max_depth=3, max_features=auto, min_samples_leaf=5, min_samples_split=30, n_estimators=100, total=   0.3s\n",
      "[CV] max_depth=3, max_features=auto, min_samples_leaf=5, min_samples_split=30, n_estimators=100 \n",
      "[CV]  max_depth=3, max_features=auto, min_samples_leaf=5, min_samples_split=30, n_estimators=100, total=   0.3s\n",
      "[CV] max_depth=3, max_features=auto, min_samples_leaf=5, min_samples_split=30, n_estimators=100 \n",
      "[CV]  max_depth=3, max_features=auto, min_samples_leaf=5, min_samples_split=30, n_estimators=100, total=   0.3s\n",
      "[CV] max_depth=3, max_features=auto, min_samples_leaf=5, min_samples_split=30, n_estimators=300 \n",
      "[CV]  max_depth=3, max_features=auto, min_samples_leaf=5, min_samples_split=30, n_estimators=300, total=   0.9s\n",
      "[CV] max_depth=3, max_features=auto, min_samples_leaf=5, min_samples_split=30, n_estimators=300 \n",
      "[CV]  max_depth=3, max_features=auto, min_samples_leaf=5, min_samples_split=30, n_estimators=300, total=   0.9s\n",
      "[CV] max_depth=3, max_features=auto, min_samples_leaf=5, min_samples_split=30, n_estimators=300 \n",
      "[CV]  max_depth=3, max_features=auto, min_samples_leaf=5, min_samples_split=30, n_estimators=300, total=   1.0s\n",
      "[CV] max_depth=3, max_features=auto, min_samples_leaf=10, min_samples_split=5, n_estimators=100 \n",
      "[CV]  max_depth=3, max_features=auto, min_samples_leaf=10, min_samples_split=5, n_estimators=100, total=   0.3s\n",
      "[CV] max_depth=3, max_features=auto, min_samples_leaf=10, min_samples_split=5, n_estimators=100 \n",
      "[CV]  max_depth=3, max_features=auto, min_samples_leaf=10, min_samples_split=5, n_estimators=100, total=   0.3s\n",
      "[CV] max_depth=3, max_features=auto, min_samples_leaf=10, min_samples_split=5, n_estimators=100 \n",
      "[CV]  max_depth=3, max_features=auto, min_samples_leaf=10, min_samples_split=5, n_estimators=100, total=   0.3s\n",
      "[CV] max_depth=3, max_features=auto, min_samples_leaf=10, min_samples_split=5, n_estimators=300 \n",
      "[CV]  max_depth=3, max_features=auto, min_samples_leaf=10, min_samples_split=5, n_estimators=300, total=   1.0s\n",
      "[CV] max_depth=3, max_features=auto, min_samples_leaf=10, min_samples_split=5, n_estimators=300 \n",
      "[CV]  max_depth=3, max_features=auto, min_samples_leaf=10, min_samples_split=5, n_estimators=300, total=   0.9s\n",
      "[CV] max_depth=3, max_features=auto, min_samples_leaf=10, min_samples_split=5, n_estimators=300 \n"
     ]
    },
    {
     "name": "stdout",
     "output_type": "stream",
     "text": [
      "[CV]  max_depth=3, max_features=auto, min_samples_leaf=10, min_samples_split=5, n_estimators=300, total=   1.0s\n",
      "[CV] max_depth=3, max_features=auto, min_samples_leaf=10, min_samples_split=15, n_estimators=100 \n",
      "[CV]  max_depth=3, max_features=auto, min_samples_leaf=10, min_samples_split=15, n_estimators=100, total=   0.3s\n",
      "[CV] max_depth=3, max_features=auto, min_samples_leaf=10, min_samples_split=15, n_estimators=100 \n",
      "[CV]  max_depth=3, max_features=auto, min_samples_leaf=10, min_samples_split=15, n_estimators=100, total=   0.3s\n",
      "[CV] max_depth=3, max_features=auto, min_samples_leaf=10, min_samples_split=15, n_estimators=100 \n",
      "[CV]  max_depth=3, max_features=auto, min_samples_leaf=10, min_samples_split=15, n_estimators=100, total=   0.3s\n",
      "[CV] max_depth=3, max_features=auto, min_samples_leaf=10, min_samples_split=15, n_estimators=300 \n",
      "[CV]  max_depth=3, max_features=auto, min_samples_leaf=10, min_samples_split=15, n_estimators=300, total=   1.0s\n",
      "[CV] max_depth=3, max_features=auto, min_samples_leaf=10, min_samples_split=15, n_estimators=300 \n",
      "[CV]  max_depth=3, max_features=auto, min_samples_leaf=10, min_samples_split=15, n_estimators=300, total=   0.9s\n",
      "[CV] max_depth=3, max_features=auto, min_samples_leaf=10, min_samples_split=15, n_estimators=300 \n",
      "[CV]  max_depth=3, max_features=auto, min_samples_leaf=10, min_samples_split=15, n_estimators=300, total=   0.9s\n",
      "[CV] max_depth=3, max_features=auto, min_samples_leaf=10, min_samples_split=30, n_estimators=100 \n",
      "[CV]  max_depth=3, max_features=auto, min_samples_leaf=10, min_samples_split=30, n_estimators=100, total=   0.3s\n",
      "[CV] max_depth=3, max_features=auto, min_samples_leaf=10, min_samples_split=30, n_estimators=100 \n",
      "[CV]  max_depth=3, max_features=auto, min_samples_leaf=10, min_samples_split=30, n_estimators=100, total=   0.3s\n",
      "[CV] max_depth=3, max_features=auto, min_samples_leaf=10, min_samples_split=30, n_estimators=100 \n",
      "[CV]  max_depth=3, max_features=auto, min_samples_leaf=10, min_samples_split=30, n_estimators=100, total=   0.3s\n",
      "[CV] max_depth=3, max_features=auto, min_samples_leaf=10, min_samples_split=30, n_estimators=300 \n",
      "[CV]  max_depth=3, max_features=auto, min_samples_leaf=10, min_samples_split=30, n_estimators=300, total=   1.0s\n",
      "[CV] max_depth=3, max_features=auto, min_samples_leaf=10, min_samples_split=30, n_estimators=300 \n",
      "[CV]  max_depth=3, max_features=auto, min_samples_leaf=10, min_samples_split=30, n_estimators=300, total=   0.9s\n",
      "[CV] max_depth=3, max_features=auto, min_samples_leaf=10, min_samples_split=30, n_estimators=300 \n",
      "[CV]  max_depth=3, max_features=auto, min_samples_leaf=10, min_samples_split=30, n_estimators=300, total=   1.0s\n",
      "[CV] max_depth=8, max_features=auto, min_samples_leaf=1, min_samples_split=5, n_estimators=100 \n",
      "[CV]  max_depth=8, max_features=auto, min_samples_leaf=1, min_samples_split=5, n_estimators=100, total=   0.7s\n",
      "[CV] max_depth=8, max_features=auto, min_samples_leaf=1, min_samples_split=5, n_estimators=100 \n",
      "[CV]  max_depth=8, max_features=auto, min_samples_leaf=1, min_samples_split=5, n_estimators=100, total=   0.7s\n",
      "[CV] max_depth=8, max_features=auto, min_samples_leaf=1, min_samples_split=5, n_estimators=100 \n",
      "[CV]  max_depth=8, max_features=auto, min_samples_leaf=1, min_samples_split=5, n_estimators=100, total=   0.7s\n",
      "[CV] max_depth=8, max_features=auto, min_samples_leaf=1, min_samples_split=5, n_estimators=300 \n",
      "[CV]  max_depth=8, max_features=auto, min_samples_leaf=1, min_samples_split=5, n_estimators=300, total=   2.3s\n",
      "[CV] max_depth=8, max_features=auto, min_samples_leaf=1, min_samples_split=5, n_estimators=300 \n",
      "[CV]  max_depth=8, max_features=auto, min_samples_leaf=1, min_samples_split=5, n_estimators=300, total=   2.2s\n",
      "[CV] max_depth=8, max_features=auto, min_samples_leaf=1, min_samples_split=5, n_estimators=300 \n",
      "[CV]  max_depth=8, max_features=auto, min_samples_leaf=1, min_samples_split=5, n_estimators=300, total=   2.2s\n",
      "[CV] max_depth=8, max_features=auto, min_samples_leaf=1, min_samples_split=15, n_estimators=100 \n",
      "[CV]  max_depth=8, max_features=auto, min_samples_leaf=1, min_samples_split=15, n_estimators=100, total=   0.7s\n",
      "[CV] max_depth=8, max_features=auto, min_samples_leaf=1, min_samples_split=15, n_estimators=100 \n",
      "[CV]  max_depth=8, max_features=auto, min_samples_leaf=1, min_samples_split=15, n_estimators=100, total=   0.7s\n",
      "[CV] max_depth=8, max_features=auto, min_samples_leaf=1, min_samples_split=15, n_estimators=100 \n",
      "[CV]  max_depth=8, max_features=auto, min_samples_leaf=1, min_samples_split=15, n_estimators=100, total=   0.7s\n",
      "[CV] max_depth=8, max_features=auto, min_samples_leaf=1, min_samples_split=15, n_estimators=300 \n",
      "[CV]  max_depth=8, max_features=auto, min_samples_leaf=1, min_samples_split=15, n_estimators=300, total=   2.2s\n",
      "[CV] max_depth=8, max_features=auto, min_samples_leaf=1, min_samples_split=15, n_estimators=300 \n",
      "[CV]  max_depth=8, max_features=auto, min_samples_leaf=1, min_samples_split=15, n_estimators=300, total=   2.2s\n",
      "[CV] max_depth=8, max_features=auto, min_samples_leaf=1, min_samples_split=15, n_estimators=300 \n",
      "[CV]  max_depth=8, max_features=auto, min_samples_leaf=1, min_samples_split=15, n_estimators=300, total=   2.2s\n",
      "[CV] max_depth=8, max_features=auto, min_samples_leaf=1, min_samples_split=30, n_estimators=100 \n",
      "[CV]  max_depth=8, max_features=auto, min_samples_leaf=1, min_samples_split=30, n_estimators=100, total=   0.7s\n",
      "[CV] max_depth=8, max_features=auto, min_samples_leaf=1, min_samples_split=30, n_estimators=100 \n",
      "[CV]  max_depth=8, max_features=auto, min_samples_leaf=1, min_samples_split=30, n_estimators=100, total=   0.7s\n",
      "[CV] max_depth=8, max_features=auto, min_samples_leaf=1, min_samples_split=30, n_estimators=100 \n",
      "[CV]  max_depth=8, max_features=auto, min_samples_leaf=1, min_samples_split=30, n_estimators=100, total=   0.7s\n",
      "[CV] max_depth=8, max_features=auto, min_samples_leaf=1, min_samples_split=30, n_estimators=300 \n",
      "[CV]  max_depth=8, max_features=auto, min_samples_leaf=1, min_samples_split=30, n_estimators=300, total=   2.2s\n",
      "[CV] max_depth=8, max_features=auto, min_samples_leaf=1, min_samples_split=30, n_estimators=300 \n",
      "[CV]  max_depth=8, max_features=auto, min_samples_leaf=1, min_samples_split=30, n_estimators=300, total=   2.2s\n",
      "[CV] max_depth=8, max_features=auto, min_samples_leaf=1, min_samples_split=30, n_estimators=300 \n",
      "[CV]  max_depth=8, max_features=auto, min_samples_leaf=1, min_samples_split=30, n_estimators=300, total=   2.2s\n",
      "[CV] max_depth=8, max_features=auto, min_samples_leaf=5, min_samples_split=5, n_estimators=100 \n",
      "[CV]  max_depth=8, max_features=auto, min_samples_leaf=5, min_samples_split=5, n_estimators=100, total=   0.7s\n",
      "[CV] max_depth=8, max_features=auto, min_samples_leaf=5, min_samples_split=5, n_estimators=100 \n",
      "[CV]  max_depth=8, max_features=auto, min_samples_leaf=5, min_samples_split=5, n_estimators=100, total=   0.7s\n",
      "[CV] max_depth=8, max_features=auto, min_samples_leaf=5, min_samples_split=5, n_estimators=100 \n",
      "[CV]  max_depth=8, max_features=auto, min_samples_leaf=5, min_samples_split=5, n_estimators=100, total=   0.8s\n",
      "[CV] max_depth=8, max_features=auto, min_samples_leaf=5, min_samples_split=5, n_estimators=300 \n",
      "[CV]  max_depth=8, max_features=auto, min_samples_leaf=5, min_samples_split=5, n_estimators=300, total=   2.2s\n",
      "[CV] max_depth=8, max_features=auto, min_samples_leaf=5, min_samples_split=5, n_estimators=300 \n",
      "[CV]  max_depth=8, max_features=auto, min_samples_leaf=5, min_samples_split=5, n_estimators=300, total=   2.2s\n",
      "[CV] max_depth=8, max_features=auto, min_samples_leaf=5, min_samples_split=5, n_estimators=300 \n",
      "[CV]  max_depth=8, max_features=auto, min_samples_leaf=5, min_samples_split=5, n_estimators=300, total=   2.2s\n",
      "[CV] max_depth=8, max_features=auto, min_samples_leaf=5, min_samples_split=15, n_estimators=100 \n",
      "[CV]  max_depth=8, max_features=auto, min_samples_leaf=5, min_samples_split=15, n_estimators=100, total=   0.7s\n",
      "[CV] max_depth=8, max_features=auto, min_samples_leaf=5, min_samples_split=15, n_estimators=100 \n",
      "[CV]  max_depth=8, max_features=auto, min_samples_leaf=5, min_samples_split=15, n_estimators=100, total=   0.7s\n",
      "[CV] max_depth=8, max_features=auto, min_samples_leaf=5, min_samples_split=15, n_estimators=100 \n",
      "[CV]  max_depth=8, max_features=auto, min_samples_leaf=5, min_samples_split=15, n_estimators=100, total=   0.8s\n",
      "[CV] max_depth=8, max_features=auto, min_samples_leaf=5, min_samples_split=15, n_estimators=300 \n"
     ]
    },
    {
     "name": "stdout",
     "output_type": "stream",
     "text": [
      "[CV]  max_depth=8, max_features=auto, min_samples_leaf=5, min_samples_split=15, n_estimators=300, total=   2.2s\n",
      "[CV] max_depth=8, max_features=auto, min_samples_leaf=5, min_samples_split=15, n_estimators=300 \n",
      "[CV]  max_depth=8, max_features=auto, min_samples_leaf=5, min_samples_split=15, n_estimators=300, total=   2.2s\n",
      "[CV] max_depth=8, max_features=auto, min_samples_leaf=5, min_samples_split=15, n_estimators=300 \n",
      "[CV]  max_depth=8, max_features=auto, min_samples_leaf=5, min_samples_split=15, n_estimators=300, total=   2.2s\n",
      "[CV] max_depth=8, max_features=auto, min_samples_leaf=5, min_samples_split=30, n_estimators=100 \n",
      "[CV]  max_depth=8, max_features=auto, min_samples_leaf=5, min_samples_split=30, n_estimators=100, total=   0.7s\n",
      "[CV] max_depth=8, max_features=auto, min_samples_leaf=5, min_samples_split=30, n_estimators=100 \n",
      "[CV]  max_depth=8, max_features=auto, min_samples_leaf=5, min_samples_split=30, n_estimators=100, total=   0.7s\n",
      "[CV] max_depth=8, max_features=auto, min_samples_leaf=5, min_samples_split=30, n_estimators=100 \n",
      "[CV]  max_depth=8, max_features=auto, min_samples_leaf=5, min_samples_split=30, n_estimators=100, total=   0.7s\n",
      "[CV] max_depth=8, max_features=auto, min_samples_leaf=5, min_samples_split=30, n_estimators=300 \n",
      "[CV]  max_depth=8, max_features=auto, min_samples_leaf=5, min_samples_split=30, n_estimators=300, total=   2.2s\n",
      "[CV] max_depth=8, max_features=auto, min_samples_leaf=5, min_samples_split=30, n_estimators=300 \n",
      "[CV]  max_depth=8, max_features=auto, min_samples_leaf=5, min_samples_split=30, n_estimators=300, total=   2.3s\n",
      "[CV] max_depth=8, max_features=auto, min_samples_leaf=5, min_samples_split=30, n_estimators=300 \n",
      "[CV]  max_depth=8, max_features=auto, min_samples_leaf=5, min_samples_split=30, n_estimators=300, total=   2.2s\n",
      "[CV] max_depth=8, max_features=auto, min_samples_leaf=10, min_samples_split=5, n_estimators=100 \n",
      "[CV]  max_depth=8, max_features=auto, min_samples_leaf=10, min_samples_split=5, n_estimators=100, total=   0.8s\n",
      "[CV] max_depth=8, max_features=auto, min_samples_leaf=10, min_samples_split=5, n_estimators=100 \n",
      "[CV]  max_depth=8, max_features=auto, min_samples_leaf=10, min_samples_split=5, n_estimators=100, total=   0.8s\n",
      "[CV] max_depth=8, max_features=auto, min_samples_leaf=10, min_samples_split=5, n_estimators=100 \n",
      "[CV]  max_depth=8, max_features=auto, min_samples_leaf=10, min_samples_split=5, n_estimators=100, total=   0.8s\n",
      "[CV] max_depth=8, max_features=auto, min_samples_leaf=10, min_samples_split=5, n_estimators=300 \n",
      "[CV]  max_depth=8, max_features=auto, min_samples_leaf=10, min_samples_split=5, n_estimators=300, total=   2.2s\n",
      "[CV] max_depth=8, max_features=auto, min_samples_leaf=10, min_samples_split=5, n_estimators=300 \n",
      "[CV]  max_depth=8, max_features=auto, min_samples_leaf=10, min_samples_split=5, n_estimators=300, total=   2.1s\n",
      "[CV] max_depth=8, max_features=auto, min_samples_leaf=10, min_samples_split=5, n_estimators=300 \n",
      "[CV]  max_depth=8, max_features=auto, min_samples_leaf=10, min_samples_split=5, n_estimators=300, total=   2.2s\n",
      "[CV] max_depth=8, max_features=auto, min_samples_leaf=10, min_samples_split=15, n_estimators=100 \n",
      "[CV]  max_depth=8, max_features=auto, min_samples_leaf=10, min_samples_split=15, n_estimators=100, total=   0.7s\n",
      "[CV] max_depth=8, max_features=auto, min_samples_leaf=10, min_samples_split=15, n_estimators=100 \n",
      "[CV]  max_depth=8, max_features=auto, min_samples_leaf=10, min_samples_split=15, n_estimators=100, total=   0.7s\n",
      "[CV] max_depth=8, max_features=auto, min_samples_leaf=10, min_samples_split=15, n_estimators=100 \n",
      "[CV]  max_depth=8, max_features=auto, min_samples_leaf=10, min_samples_split=15, n_estimators=100, total=   0.7s\n",
      "[CV] max_depth=8, max_features=auto, min_samples_leaf=10, min_samples_split=15, n_estimators=300 \n",
      "[CV]  max_depth=8, max_features=auto, min_samples_leaf=10, min_samples_split=15, n_estimators=300, total=   2.2s\n",
      "[CV] max_depth=8, max_features=auto, min_samples_leaf=10, min_samples_split=15, n_estimators=300 \n",
      "[CV]  max_depth=8, max_features=auto, min_samples_leaf=10, min_samples_split=15, n_estimators=300, total=   2.1s\n",
      "[CV] max_depth=8, max_features=auto, min_samples_leaf=10, min_samples_split=15, n_estimators=300 \n",
      "[CV]  max_depth=8, max_features=auto, min_samples_leaf=10, min_samples_split=15, n_estimators=300, total=   2.1s\n",
      "[CV] max_depth=8, max_features=auto, min_samples_leaf=10, min_samples_split=30, n_estimators=100 \n",
      "[CV]  max_depth=8, max_features=auto, min_samples_leaf=10, min_samples_split=30, n_estimators=100, total=   0.7s\n",
      "[CV] max_depth=8, max_features=auto, min_samples_leaf=10, min_samples_split=30, n_estimators=100 \n",
      "[CV]  max_depth=8, max_features=auto, min_samples_leaf=10, min_samples_split=30, n_estimators=100, total=   0.7s\n",
      "[CV] max_depth=8, max_features=auto, min_samples_leaf=10, min_samples_split=30, n_estimators=100 \n",
      "[CV]  max_depth=8, max_features=auto, min_samples_leaf=10, min_samples_split=30, n_estimators=100, total=   0.7s\n",
      "[CV] max_depth=8, max_features=auto, min_samples_leaf=10, min_samples_split=30, n_estimators=300 \n",
      "[CV]  max_depth=8, max_features=auto, min_samples_leaf=10, min_samples_split=30, n_estimators=300, total=   2.2s\n",
      "[CV] max_depth=8, max_features=auto, min_samples_leaf=10, min_samples_split=30, n_estimators=300 \n",
      "[CV]  max_depth=8, max_features=auto, min_samples_leaf=10, min_samples_split=30, n_estimators=300, total=   2.2s\n",
      "[CV] max_depth=8, max_features=auto, min_samples_leaf=10, min_samples_split=30, n_estimators=300 \n",
      "[CV]  max_depth=8, max_features=auto, min_samples_leaf=10, min_samples_split=30, n_estimators=300, total=   2.1s\n",
      "[CV] max_depth=15, max_features=auto, min_samples_leaf=1, min_samples_split=5, n_estimators=100 \n",
      "[CV]  max_depth=15, max_features=auto, min_samples_leaf=1, min_samples_split=5, n_estimators=100, total=   1.3s\n",
      "[CV] max_depth=15, max_features=auto, min_samples_leaf=1, min_samples_split=5, n_estimators=100 \n",
      "[CV]  max_depth=15, max_features=auto, min_samples_leaf=1, min_samples_split=5, n_estimators=100, total=   1.2s\n",
      "[CV] max_depth=15, max_features=auto, min_samples_leaf=1, min_samples_split=5, n_estimators=100 \n",
      "[CV]  max_depth=15, max_features=auto, min_samples_leaf=1, min_samples_split=5, n_estimators=100, total=   1.2s\n",
      "[CV] max_depth=15, max_features=auto, min_samples_leaf=1, min_samples_split=5, n_estimators=300 \n",
      "[CV]  max_depth=15, max_features=auto, min_samples_leaf=1, min_samples_split=5, n_estimators=300, total=   3.5s\n",
      "[CV] max_depth=15, max_features=auto, min_samples_leaf=1, min_samples_split=5, n_estimators=300 \n",
      "[CV]  max_depth=15, max_features=auto, min_samples_leaf=1, min_samples_split=5, n_estimators=300, total=   3.6s\n",
      "[CV] max_depth=15, max_features=auto, min_samples_leaf=1, min_samples_split=5, n_estimators=300 \n",
      "[CV]  max_depth=15, max_features=auto, min_samples_leaf=1, min_samples_split=5, n_estimators=300, total=   3.5s\n",
      "[CV] max_depth=15, max_features=auto, min_samples_leaf=1, min_samples_split=15, n_estimators=100 \n",
      "[CV]  max_depth=15, max_features=auto, min_samples_leaf=1, min_samples_split=15, n_estimators=100, total=   1.1s\n",
      "[CV] max_depth=15, max_features=auto, min_samples_leaf=1, min_samples_split=15, n_estimators=100 \n",
      "[CV]  max_depth=15, max_features=auto, min_samples_leaf=1, min_samples_split=15, n_estimators=100, total=   1.1s\n",
      "[CV] max_depth=15, max_features=auto, min_samples_leaf=1, min_samples_split=15, n_estimators=100 \n",
      "[CV]  max_depth=15, max_features=auto, min_samples_leaf=1, min_samples_split=15, n_estimators=100, total=   1.1s\n",
      "[CV] max_depth=15, max_features=auto, min_samples_leaf=1, min_samples_split=15, n_estimators=300 \n",
      "[CV]  max_depth=15, max_features=auto, min_samples_leaf=1, min_samples_split=15, n_estimators=300, total=   3.3s\n",
      "[CV] max_depth=15, max_features=auto, min_samples_leaf=1, min_samples_split=15, n_estimators=300 \n",
      "[CV]  max_depth=15, max_features=auto, min_samples_leaf=1, min_samples_split=15, n_estimators=300, total=   3.3s\n",
      "[CV] max_depth=15, max_features=auto, min_samples_leaf=1, min_samples_split=15, n_estimators=300 \n",
      "[CV]  max_depth=15, max_features=auto, min_samples_leaf=1, min_samples_split=15, n_estimators=300, total=   3.2s\n",
      "[CV] max_depth=15, max_features=auto, min_samples_leaf=1, min_samples_split=30, n_estimators=100 \n",
      "[CV]  max_depth=15, max_features=auto, min_samples_leaf=1, min_samples_split=30, n_estimators=100, total=   1.1s\n",
      "[CV] max_depth=15, max_features=auto, min_samples_leaf=1, min_samples_split=30, n_estimators=100 \n"
     ]
    },
    {
     "name": "stdout",
     "output_type": "stream",
     "text": [
      "[CV]  max_depth=15, max_features=auto, min_samples_leaf=1, min_samples_split=30, n_estimators=100, total=   1.0s\n",
      "[CV] max_depth=15, max_features=auto, min_samples_leaf=1, min_samples_split=30, n_estimators=100 \n",
      "[CV]  max_depth=15, max_features=auto, min_samples_leaf=1, min_samples_split=30, n_estimators=100, total=   1.0s\n",
      "[CV] max_depth=15, max_features=auto, min_samples_leaf=1, min_samples_split=30, n_estimators=300 \n",
      "[CV]  max_depth=15, max_features=auto, min_samples_leaf=1, min_samples_split=30, n_estimators=300, total=   3.2s\n",
      "[CV] max_depth=15, max_features=auto, min_samples_leaf=1, min_samples_split=30, n_estimators=300 \n",
      "[CV]  max_depth=15, max_features=auto, min_samples_leaf=1, min_samples_split=30, n_estimators=300, total=   3.1s\n",
      "[CV] max_depth=15, max_features=auto, min_samples_leaf=1, min_samples_split=30, n_estimators=300 \n",
      "[CV]  max_depth=15, max_features=auto, min_samples_leaf=1, min_samples_split=30, n_estimators=300, total=   3.1s\n",
      "[CV] max_depth=15, max_features=auto, min_samples_leaf=5, min_samples_split=5, n_estimators=100 \n",
      "[CV]  max_depth=15, max_features=auto, min_samples_leaf=5, min_samples_split=5, n_estimators=100, total=   1.1s\n",
      "[CV] max_depth=15, max_features=auto, min_samples_leaf=5, min_samples_split=5, n_estimators=100 \n",
      "[CV]  max_depth=15, max_features=auto, min_samples_leaf=5, min_samples_split=5, n_estimators=100, total=   1.1s\n",
      "[CV] max_depth=15, max_features=auto, min_samples_leaf=5, min_samples_split=5, n_estimators=100 \n",
      "[CV]  max_depth=15, max_features=auto, min_samples_leaf=5, min_samples_split=5, n_estimators=100, total=   1.1s\n",
      "[CV] max_depth=15, max_features=auto, min_samples_leaf=5, min_samples_split=5, n_estimators=300 \n",
      "[CV]  max_depth=15, max_features=auto, min_samples_leaf=5, min_samples_split=5, n_estimators=300, total=   3.2s\n",
      "[CV] max_depth=15, max_features=auto, min_samples_leaf=5, min_samples_split=5, n_estimators=300 \n",
      "[CV]  max_depth=15, max_features=auto, min_samples_leaf=5, min_samples_split=5, n_estimators=300, total=   3.2s\n",
      "[CV] max_depth=15, max_features=auto, min_samples_leaf=5, min_samples_split=5, n_estimators=300 \n",
      "[CV]  max_depth=15, max_features=auto, min_samples_leaf=5, min_samples_split=5, n_estimators=300, total=   3.1s\n",
      "[CV] max_depth=15, max_features=auto, min_samples_leaf=5, min_samples_split=15, n_estimators=100 \n",
      "[CV]  max_depth=15, max_features=auto, min_samples_leaf=5, min_samples_split=15, n_estimators=100, total=   1.0s\n",
      "[CV] max_depth=15, max_features=auto, min_samples_leaf=5, min_samples_split=15, n_estimators=100 \n",
      "[CV]  max_depth=15, max_features=auto, min_samples_leaf=5, min_samples_split=15, n_estimators=100, total=   1.1s\n",
      "[CV] max_depth=15, max_features=auto, min_samples_leaf=5, min_samples_split=15, n_estimators=100 \n",
      "[CV]  max_depth=15, max_features=auto, min_samples_leaf=5, min_samples_split=15, n_estimators=100, total=   1.0s\n",
      "[CV] max_depth=15, max_features=auto, min_samples_leaf=5, min_samples_split=15, n_estimators=300 \n",
      "[CV]  max_depth=15, max_features=auto, min_samples_leaf=5, min_samples_split=15, n_estimators=300, total=   3.2s\n",
      "[CV] max_depth=15, max_features=auto, min_samples_leaf=5, min_samples_split=15, n_estimators=300 \n",
      "[CV]  max_depth=15, max_features=auto, min_samples_leaf=5, min_samples_split=15, n_estimators=300, total=   3.2s\n",
      "[CV] max_depth=15, max_features=auto, min_samples_leaf=5, min_samples_split=15, n_estimators=300 \n",
      "[CV]  max_depth=15, max_features=auto, min_samples_leaf=5, min_samples_split=15, n_estimators=300, total=   3.1s\n",
      "[CV] max_depth=15, max_features=auto, min_samples_leaf=5, min_samples_split=30, n_estimators=100 \n",
      "[CV]  max_depth=15, max_features=auto, min_samples_leaf=5, min_samples_split=30, n_estimators=100, total=   1.0s\n",
      "[CV] max_depth=15, max_features=auto, min_samples_leaf=5, min_samples_split=30, n_estimators=100 \n",
      "[CV]  max_depth=15, max_features=auto, min_samples_leaf=5, min_samples_split=30, n_estimators=100, total=   1.0s\n",
      "[CV] max_depth=15, max_features=auto, min_samples_leaf=5, min_samples_split=30, n_estimators=100 \n",
      "[CV]  max_depth=15, max_features=auto, min_samples_leaf=5, min_samples_split=30, n_estimators=100, total=   1.0s\n",
      "[CV] max_depth=15, max_features=auto, min_samples_leaf=5, min_samples_split=30, n_estimators=300 \n",
      "[CV]  max_depth=15, max_features=auto, min_samples_leaf=5, min_samples_split=30, n_estimators=300, total=   2.9s\n",
      "[CV] max_depth=15, max_features=auto, min_samples_leaf=5, min_samples_split=30, n_estimators=300 \n",
      "[CV]  max_depth=15, max_features=auto, min_samples_leaf=5, min_samples_split=30, n_estimators=300, total=   3.0s\n",
      "[CV] max_depth=15, max_features=auto, min_samples_leaf=5, min_samples_split=30, n_estimators=300 \n",
      "[CV]  max_depth=15, max_features=auto, min_samples_leaf=5, min_samples_split=30, n_estimators=300, total=   3.0s\n",
      "[CV] max_depth=15, max_features=auto, min_samples_leaf=10, min_samples_split=5, n_estimators=100 \n",
      "[CV]  max_depth=15, max_features=auto, min_samples_leaf=10, min_samples_split=5, n_estimators=100, total=   1.0s\n",
      "[CV] max_depth=15, max_features=auto, min_samples_leaf=10, min_samples_split=5, n_estimators=100 \n",
      "[CV]  max_depth=15, max_features=auto, min_samples_leaf=10, min_samples_split=5, n_estimators=100, total=   1.0s\n",
      "[CV] max_depth=15, max_features=auto, min_samples_leaf=10, min_samples_split=5, n_estimators=100 \n",
      "[CV]  max_depth=15, max_features=auto, min_samples_leaf=10, min_samples_split=5, n_estimators=100, total=   1.0s\n",
      "[CV] max_depth=15, max_features=auto, min_samples_leaf=10, min_samples_split=5, n_estimators=300 \n",
      "[CV]  max_depth=15, max_features=auto, min_samples_leaf=10, min_samples_split=5, n_estimators=300, total=   2.9s\n",
      "[CV] max_depth=15, max_features=auto, min_samples_leaf=10, min_samples_split=5, n_estimators=300 \n",
      "[CV]  max_depth=15, max_features=auto, min_samples_leaf=10, min_samples_split=5, n_estimators=300, total=   2.9s\n",
      "[CV] max_depth=15, max_features=auto, min_samples_leaf=10, min_samples_split=5, n_estimators=300 \n",
      "[CV]  max_depth=15, max_features=auto, min_samples_leaf=10, min_samples_split=5, n_estimators=300, total=   2.9s\n",
      "[CV] max_depth=15, max_features=auto, min_samples_leaf=10, min_samples_split=15, n_estimators=100 \n",
      "[CV]  max_depth=15, max_features=auto, min_samples_leaf=10, min_samples_split=15, n_estimators=100, total=   1.0s\n",
      "[CV] max_depth=15, max_features=auto, min_samples_leaf=10, min_samples_split=15, n_estimators=100 \n",
      "[CV]  max_depth=15, max_features=auto, min_samples_leaf=10, min_samples_split=15, n_estimators=100, total=   1.0s\n",
      "[CV] max_depth=15, max_features=auto, min_samples_leaf=10, min_samples_split=15, n_estimators=100 \n",
      "[CV]  max_depth=15, max_features=auto, min_samples_leaf=10, min_samples_split=15, n_estimators=100, total=   1.0s\n",
      "[CV] max_depth=15, max_features=auto, min_samples_leaf=10, min_samples_split=15, n_estimators=300 \n",
      "[CV]  max_depth=15, max_features=auto, min_samples_leaf=10, min_samples_split=15, n_estimators=300, total=   2.8s\n",
      "[CV] max_depth=15, max_features=auto, min_samples_leaf=10, min_samples_split=15, n_estimators=300 \n",
      "[CV]  max_depth=15, max_features=auto, min_samples_leaf=10, min_samples_split=15, n_estimators=300, total=   2.9s\n",
      "[CV] max_depth=15, max_features=auto, min_samples_leaf=10, min_samples_split=15, n_estimators=300 \n",
      "[CV]  max_depth=15, max_features=auto, min_samples_leaf=10, min_samples_split=15, n_estimators=300, total=   2.9s\n",
      "[CV] max_depth=15, max_features=auto, min_samples_leaf=10, min_samples_split=30, n_estimators=100 \n",
      "[CV]  max_depth=15, max_features=auto, min_samples_leaf=10, min_samples_split=30, n_estimators=100, total=   0.9s\n",
      "[CV] max_depth=15, max_features=auto, min_samples_leaf=10, min_samples_split=30, n_estimators=100 \n",
      "[CV]  max_depth=15, max_features=auto, min_samples_leaf=10, min_samples_split=30, n_estimators=100, total=   0.9s\n",
      "[CV] max_depth=15, max_features=auto, min_samples_leaf=10, min_samples_split=30, n_estimators=100 \n",
      "[CV]  max_depth=15, max_features=auto, min_samples_leaf=10, min_samples_split=30, n_estimators=100, total=   0.9s\n",
      "[CV] max_depth=15, max_features=auto, min_samples_leaf=10, min_samples_split=30, n_estimators=300 \n",
      "[CV]  max_depth=15, max_features=auto, min_samples_leaf=10, min_samples_split=30, n_estimators=300, total=   2.8s\n",
      "[CV] max_depth=15, max_features=auto, min_samples_leaf=10, min_samples_split=30, n_estimators=300 \n"
     ]
    },
    {
     "name": "stdout",
     "output_type": "stream",
     "text": [
      "[CV]  max_depth=15, max_features=auto, min_samples_leaf=10, min_samples_split=30, n_estimators=300, total=   2.8s\n",
      "[CV] max_depth=15, max_features=auto, min_samples_leaf=10, min_samples_split=30, n_estimators=300 \n",
      "[CV]  max_depth=15, max_features=auto, min_samples_leaf=10, min_samples_split=30, n_estimators=300, total=   2.8s\n",
      "[CV] max_depth=None, max_features=auto, min_samples_leaf=1, min_samples_split=5, n_estimators=100 \n",
      "[CV]  max_depth=None, max_features=auto, min_samples_leaf=1, min_samples_split=5, n_estimators=100, total=   1.6s\n",
      "[CV] max_depth=None, max_features=auto, min_samples_leaf=1, min_samples_split=5, n_estimators=100 \n",
      "[CV]  max_depth=None, max_features=auto, min_samples_leaf=1, min_samples_split=5, n_estimators=100, total=   1.6s\n",
      "[CV] max_depth=None, max_features=auto, min_samples_leaf=1, min_samples_split=5, n_estimators=100 \n",
      "[CV]  max_depth=None, max_features=auto, min_samples_leaf=1, min_samples_split=5, n_estimators=100, total=   1.6s\n",
      "[CV] max_depth=None, max_features=auto, min_samples_leaf=1, min_samples_split=5, n_estimators=300 \n",
      "[CV]  max_depth=None, max_features=auto, min_samples_leaf=1, min_samples_split=5, n_estimators=300, total=   4.7s\n",
      "[CV] max_depth=None, max_features=auto, min_samples_leaf=1, min_samples_split=5, n_estimators=300 \n",
      "[CV]  max_depth=None, max_features=auto, min_samples_leaf=1, min_samples_split=5, n_estimators=300, total=   4.8s\n",
      "[CV] max_depth=None, max_features=auto, min_samples_leaf=1, min_samples_split=5, n_estimators=300 \n",
      "[CV]  max_depth=None, max_features=auto, min_samples_leaf=1, min_samples_split=5, n_estimators=300, total=   4.7s\n",
      "[CV] max_depth=None, max_features=auto, min_samples_leaf=1, min_samples_split=15, n_estimators=100 \n",
      "[CV]  max_depth=None, max_features=auto, min_samples_leaf=1, min_samples_split=15, n_estimators=100, total=   1.4s\n",
      "[CV] max_depth=None, max_features=auto, min_samples_leaf=1, min_samples_split=15, n_estimators=100 \n",
      "[CV]  max_depth=None, max_features=auto, min_samples_leaf=1, min_samples_split=15, n_estimators=100, total=   1.4s\n",
      "[CV] max_depth=None, max_features=auto, min_samples_leaf=1, min_samples_split=15, n_estimators=100 \n",
      "[CV]  max_depth=None, max_features=auto, min_samples_leaf=1, min_samples_split=15, n_estimators=100, total=   1.4s\n",
      "[CV] max_depth=None, max_features=auto, min_samples_leaf=1, min_samples_split=15, n_estimators=300 \n",
      "[CV]  max_depth=None, max_features=auto, min_samples_leaf=1, min_samples_split=15, n_estimators=300, total=   4.3s\n",
      "[CV] max_depth=None, max_features=auto, min_samples_leaf=1, min_samples_split=15, n_estimators=300 \n",
      "[CV]  max_depth=None, max_features=auto, min_samples_leaf=1, min_samples_split=15, n_estimators=300, total=   4.2s\n",
      "[CV] max_depth=None, max_features=auto, min_samples_leaf=1, min_samples_split=15, n_estimators=300 \n",
      "[CV]  max_depth=None, max_features=auto, min_samples_leaf=1, min_samples_split=15, n_estimators=300, total=   4.1s\n",
      "[CV] max_depth=None, max_features=auto, min_samples_leaf=1, min_samples_split=30, n_estimators=100 \n",
      "[CV]  max_depth=None, max_features=auto, min_samples_leaf=1, min_samples_split=30, n_estimators=100, total=   1.3s\n",
      "[CV] max_depth=None, max_features=auto, min_samples_leaf=1, min_samples_split=30, n_estimators=100 \n",
      "[CV]  max_depth=None, max_features=auto, min_samples_leaf=1, min_samples_split=30, n_estimators=100, total=   1.3s\n",
      "[CV] max_depth=None, max_features=auto, min_samples_leaf=1, min_samples_split=30, n_estimators=100 \n",
      "[CV]  max_depth=None, max_features=auto, min_samples_leaf=1, min_samples_split=30, n_estimators=100, total=   1.3s\n",
      "[CV] max_depth=None, max_features=auto, min_samples_leaf=1, min_samples_split=30, n_estimators=300 \n",
      "[CV]  max_depth=None, max_features=auto, min_samples_leaf=1, min_samples_split=30, n_estimators=300, total=   3.8s\n",
      "[CV] max_depth=None, max_features=auto, min_samples_leaf=1, min_samples_split=30, n_estimators=300 \n",
      "[CV]  max_depth=None, max_features=auto, min_samples_leaf=1, min_samples_split=30, n_estimators=300, total=   3.9s\n",
      "[CV] max_depth=None, max_features=auto, min_samples_leaf=1, min_samples_split=30, n_estimators=300 \n",
      "[CV]  max_depth=None, max_features=auto, min_samples_leaf=1, min_samples_split=30, n_estimators=300, total=   3.8s\n",
      "[CV] max_depth=None, max_features=auto, min_samples_leaf=5, min_samples_split=5, n_estimators=100 \n",
      "[CV]  max_depth=None, max_features=auto, min_samples_leaf=5, min_samples_split=5, n_estimators=100, total=   1.2s\n",
      "[CV] max_depth=None, max_features=auto, min_samples_leaf=5, min_samples_split=5, n_estimators=100 \n",
      "[CV]  max_depth=None, max_features=auto, min_samples_leaf=5, min_samples_split=5, n_estimators=100, total=   1.2s\n",
      "[CV] max_depth=None, max_features=auto, min_samples_leaf=5, min_samples_split=5, n_estimators=100 \n",
      "[CV]  max_depth=None, max_features=auto, min_samples_leaf=5, min_samples_split=5, n_estimators=100, total=   1.2s\n",
      "[CV] max_depth=None, max_features=auto, min_samples_leaf=5, min_samples_split=5, n_estimators=300 \n",
      "[CV]  max_depth=None, max_features=auto, min_samples_leaf=5, min_samples_split=5, n_estimators=300, total=   3.6s\n",
      "[CV] max_depth=None, max_features=auto, min_samples_leaf=5, min_samples_split=5, n_estimators=300 \n",
      "[CV]  max_depth=None, max_features=auto, min_samples_leaf=5, min_samples_split=5, n_estimators=300, total=   3.6s\n",
      "[CV] max_depth=None, max_features=auto, min_samples_leaf=5, min_samples_split=5, n_estimators=300 \n",
      "[CV]  max_depth=None, max_features=auto, min_samples_leaf=5, min_samples_split=5, n_estimators=300, total=   3.6s\n",
      "[CV] max_depth=None, max_features=auto, min_samples_leaf=5, min_samples_split=15, n_estimators=100 \n",
      "[CV]  max_depth=None, max_features=auto, min_samples_leaf=5, min_samples_split=15, n_estimators=100, total=   1.2s\n",
      "[CV] max_depth=None, max_features=auto, min_samples_leaf=5, min_samples_split=15, n_estimators=100 \n",
      "[CV]  max_depth=None, max_features=auto, min_samples_leaf=5, min_samples_split=15, n_estimators=100, total=   1.2s\n",
      "[CV] max_depth=None, max_features=auto, min_samples_leaf=5, min_samples_split=15, n_estimators=100 \n",
      "[CV]  max_depth=None, max_features=auto, min_samples_leaf=5, min_samples_split=15, n_estimators=100, total=   1.2s\n",
      "[CV] max_depth=None, max_features=auto, min_samples_leaf=5, min_samples_split=15, n_estimators=300 \n",
      "[CV]  max_depth=None, max_features=auto, min_samples_leaf=5, min_samples_split=15, n_estimators=300, total=   3.5s\n",
      "[CV] max_depth=None, max_features=auto, min_samples_leaf=5, min_samples_split=15, n_estimators=300 \n",
      "[CV]  max_depth=None, max_features=auto, min_samples_leaf=5, min_samples_split=15, n_estimators=300, total=   3.5s\n",
      "[CV] max_depth=None, max_features=auto, min_samples_leaf=5, min_samples_split=15, n_estimators=300 \n",
      "[CV]  max_depth=None, max_features=auto, min_samples_leaf=5, min_samples_split=15, n_estimators=300, total=   3.5s\n",
      "[CV] max_depth=None, max_features=auto, min_samples_leaf=5, min_samples_split=30, n_estimators=100 \n",
      "[CV]  max_depth=None, max_features=auto, min_samples_leaf=5, min_samples_split=30, n_estimators=100, total=   1.1s\n",
      "[CV] max_depth=None, max_features=auto, min_samples_leaf=5, min_samples_split=30, n_estimators=100 \n",
      "[CV]  max_depth=None, max_features=auto, min_samples_leaf=5, min_samples_split=30, n_estimators=100, total=   1.1s\n",
      "[CV] max_depth=None, max_features=auto, min_samples_leaf=5, min_samples_split=30, n_estimators=100 \n",
      "[CV]  max_depth=None, max_features=auto, min_samples_leaf=5, min_samples_split=30, n_estimators=100, total=   1.1s\n",
      "[CV] max_depth=None, max_features=auto, min_samples_leaf=5, min_samples_split=30, n_estimators=300 \n",
      "[CV]  max_depth=None, max_features=auto, min_samples_leaf=5, min_samples_split=30, n_estimators=300, total=   3.5s\n",
      "[CV] max_depth=None, max_features=auto, min_samples_leaf=5, min_samples_split=30, n_estimators=300 \n",
      "[CV]  max_depth=None, max_features=auto, min_samples_leaf=5, min_samples_split=30, n_estimators=300, total=   3.4s\n",
      "[CV] max_depth=None, max_features=auto, min_samples_leaf=5, min_samples_split=30, n_estimators=300 \n",
      "[CV]  max_depth=None, max_features=auto, min_samples_leaf=5, min_samples_split=30, n_estimators=300, total=   3.5s\n",
      "[CV] max_depth=None, max_features=auto, min_samples_leaf=10, min_samples_split=5, n_estimators=100 \n",
      "[CV]  max_depth=None, max_features=auto, min_samples_leaf=10, min_samples_split=5, n_estimators=100, total=   1.0s\n",
      "[CV] max_depth=None, max_features=auto, min_samples_leaf=10, min_samples_split=5, n_estimators=100 \n"
     ]
    },
    {
     "name": "stdout",
     "output_type": "stream",
     "text": [
      "[CV]  max_depth=None, max_features=auto, min_samples_leaf=10, min_samples_split=5, n_estimators=100, total=   1.0s\n",
      "[CV] max_depth=None, max_features=auto, min_samples_leaf=10, min_samples_split=5, n_estimators=100 \n",
      "[CV]  max_depth=None, max_features=auto, min_samples_leaf=10, min_samples_split=5, n_estimators=100, total=   1.0s\n",
      "[CV] max_depth=None, max_features=auto, min_samples_leaf=10, min_samples_split=5, n_estimators=300 \n",
      "[CV]  max_depth=None, max_features=auto, min_samples_leaf=10, min_samples_split=5, n_estimators=300, total=   3.1s\n",
      "[CV] max_depth=None, max_features=auto, min_samples_leaf=10, min_samples_split=5, n_estimators=300 \n",
      "[CV]  max_depth=None, max_features=auto, min_samples_leaf=10, min_samples_split=5, n_estimators=300, total=   3.1s\n",
      "[CV] max_depth=None, max_features=auto, min_samples_leaf=10, min_samples_split=5, n_estimators=300 \n",
      "[CV]  max_depth=None, max_features=auto, min_samples_leaf=10, min_samples_split=5, n_estimators=300, total=   3.1s\n",
      "[CV] max_depth=None, max_features=auto, min_samples_leaf=10, min_samples_split=15, n_estimators=100 \n",
      "[CV]  max_depth=None, max_features=auto, min_samples_leaf=10, min_samples_split=15, n_estimators=100, total=   1.0s\n",
      "[CV] max_depth=None, max_features=auto, min_samples_leaf=10, min_samples_split=15, n_estimators=100 \n",
      "[CV]  max_depth=None, max_features=auto, min_samples_leaf=10, min_samples_split=15, n_estimators=100, total=   1.1s\n",
      "[CV] max_depth=None, max_features=auto, min_samples_leaf=10, min_samples_split=15, n_estimators=100 \n",
      "[CV]  max_depth=None, max_features=auto, min_samples_leaf=10, min_samples_split=15, n_estimators=100, total=   1.0s\n",
      "[CV] max_depth=None, max_features=auto, min_samples_leaf=10, min_samples_split=15, n_estimators=300 \n",
      "[CV]  max_depth=None, max_features=auto, min_samples_leaf=10, min_samples_split=15, n_estimators=300, total=   3.0s\n",
      "[CV] max_depth=None, max_features=auto, min_samples_leaf=10, min_samples_split=15, n_estimators=300 \n",
      "[CV]  max_depth=None, max_features=auto, min_samples_leaf=10, min_samples_split=15, n_estimators=300, total=   3.1s\n",
      "[CV] max_depth=None, max_features=auto, min_samples_leaf=10, min_samples_split=15, n_estimators=300 \n",
      "[CV]  max_depth=None, max_features=auto, min_samples_leaf=10, min_samples_split=15, n_estimators=300, total=   3.0s\n",
      "[CV] max_depth=None, max_features=auto, min_samples_leaf=10, min_samples_split=30, n_estimators=100 \n",
      "[CV]  max_depth=None, max_features=auto, min_samples_leaf=10, min_samples_split=30, n_estimators=100, total=   1.0s\n",
      "[CV] max_depth=None, max_features=auto, min_samples_leaf=10, min_samples_split=30, n_estimators=100 \n",
      "[CV]  max_depth=None, max_features=auto, min_samples_leaf=10, min_samples_split=30, n_estimators=100, total=   1.0s\n",
      "[CV] max_depth=None, max_features=auto, min_samples_leaf=10, min_samples_split=30, n_estimators=100 \n",
      "[CV]  max_depth=None, max_features=auto, min_samples_leaf=10, min_samples_split=30, n_estimators=100, total=   1.0s\n",
      "[CV] max_depth=None, max_features=auto, min_samples_leaf=10, min_samples_split=30, n_estimators=300 \n",
      "[CV]  max_depth=None, max_features=auto, min_samples_leaf=10, min_samples_split=30, n_estimators=300, total=   2.9s\n",
      "[CV] max_depth=None, max_features=auto, min_samples_leaf=10, min_samples_split=30, n_estimators=300 \n",
      "[CV]  max_depth=None, max_features=auto, min_samples_leaf=10, min_samples_split=30, n_estimators=300, total=   2.9s\n",
      "[CV] max_depth=None, max_features=auto, min_samples_leaf=10, min_samples_split=30, n_estimators=300 \n",
      "[CV]  max_depth=None, max_features=auto, min_samples_leaf=10, min_samples_split=30, n_estimators=300, total=   2.9s\n"
     ]
    },
    {
     "name": "stderr",
     "output_type": "stream",
     "text": [
      "[Parallel(n_jobs=1)]: Done 216 out of 216 | elapsed:  5.9min finished\n"
     ]
    },
    {
     "data": {
      "text/plain": [
       "GridSearchCV(cv=3, error_score='raise-deprecating',\n",
       "             estimator=RandomForestRegressor(bootstrap=True, criterion='mse',\n",
       "                                             max_depth=None,\n",
       "                                             max_features='auto',\n",
       "                                             max_leaf_nodes=None,\n",
       "                                             min_impurity_decrease=0.0,\n",
       "                                             min_impurity_split=None,\n",
       "                                             min_samples_leaf=1,\n",
       "                                             min_samples_split=2,\n",
       "                                             min_weight_fraction_leaf=0.0,\n",
       "                                             n_estimators='warn', n_jobs=None,\n",
       "                                             oob_score=False, random_state=2509,\n",
       "                                             verbose=0, warm_start=False),\n",
       "             iid='warn', n_jobs=None,\n",
       "             param_grid={'max_depth': [3, 8, 15, None],\n",
       "                         'max_features': ['auto'],\n",
       "                         'min_samples_leaf': [1, 5, 10],\n",
       "                         'min_samples_split': [5, 15, 30],\n",
       "                         'n_estimators': [100, 300]},\n",
       "             pre_dispatch='2*n_jobs', refit=True, return_train_score=False,\n",
       "             scoring='neg_mean_squared_error', verbose=2)"
      ]
     },
     "execution_count": 204,
     "metadata": {},
     "output_type": "execute_result"
    }
   ],
   "source": [
    "#instantiate mode\n",
    "rf = RandomForestRegressor(random_state = SEED)\n",
    "\n",
    "#find best hyperparameters\n",
    "params_rf = {'max_depth': [3, 8, 15, None],\n",
    "              'max_features': ['auto'],\n",
    "              \"min_samples_leaf\": [1, 5, 10],\n",
    "              \"min_samples_split\": [5, 15, 30],\n",
    "              'n_estimators': [100, 300]}\n",
    "\n",
    "grid_rf = GridSearchCV(estimator = rf, param_grid = params_rf, cv = 3, verbose = 2, n_jobs = None, scoring = \"neg_mean_squared_error\")\n",
    "grid_rf.fit(X_train, y_train)"
   ]
  },
  {
   "cell_type": "code",
   "execution_count": 205,
   "metadata": {
    "pycharm": {
     "name": "#%%\n"
    }
   },
   "outputs": [
    {
     "data": {
      "text/plain": [
       "{'max_depth': None,\n",
       " 'max_features': 'auto',\n",
       " 'min_samples_leaf': 1,\n",
       " 'min_samples_split': 5,\n",
       " 'n_estimators': 300}"
      ]
     },
     "execution_count": 205,
     "metadata": {},
     "output_type": "execute_result"
    }
   ],
   "source": [
    "grid_rf.best_params_"
   ]
  },
  {
   "cell_type": "code",
   "execution_count": 206,
   "metadata": {
    "pycharm": {
     "name": "#%%\n"
    }
   },
   "outputs": [
    {
     "name": "stdout",
     "output_type": "stream",
     "text": [
      "CV RMSE for Random Forest Regression 0.31763582021072895\n"
     ]
    }
   ],
   "source": [
    "print(\"CV RMSE for Random Forest Regression\", np.sqrt(np.abs(grid_rf.best_score_)))"
   ]
  },
  {
   "cell_type": "markdown",
   "metadata": {},
   "source": [
    "Save best random forest model"
   ]
  },
  {
   "cell_type": "code",
   "execution_count": 207,
   "metadata": {},
   "outputs": [],
   "source": [
    "best_rf = grid_rf.best_estimator_"
   ]
  },
  {
   "cell_type": "markdown",
   "metadata": {},
   "source": [
    "Plot the important features of the random forest"
   ]
  },
  {
   "cell_type": "code",
   "execution_count": 221,
   "metadata": {},
   "outputs": [
    {
     "data": {
      "image/png": "[encoded data removed]",
      "text/plain": [
       "<Figure size 432x288 with 1 Axes>"
      ]
     },
     "metadata": {
      "needs_background": "light"
     },
     "output_type": "display_data"
    }
   ],
   "source": [
    "#create pd.Series of features importances\n",
    "importances_rf = pd.Series(best_rf.feature_importances_, index = X.columns)\n",
    "\n",
    "#sort importance_rf\n",
    "sorted_importances_rf = importances_rf.sort_values()\n",
    "\n",
    "#make horizontal bar plot\n",
    "sorted_importances_rf[-5:].plot(kind = \"barh\", color = \"lightgreen\"); plt.show()"
   ]
  },
  {
   "cell_type": "markdown",
   "metadata": {},
   "source": [
    "## Test set evaluation"
   ]
  },
  {
   "cell_type": "markdown",
   "metadata": {},
   "source": [
    "Linear regression model prediction"
   ]
  },
  {
   "cell_type": "code",
   "execution_count": 208,
   "metadata": {},
   "outputs": [
    {
     "name": "stdout",
     "output_type": "stream",
     "text": [
      "Test RMSE for Linear Regression 6408568.32673033\n"
     ]
    }
   ],
   "source": [
    "linreg_pred = linreg.predict(X_test)\n",
    "print(\"Test RMSE for Linear Regression\",MSE(np.expm1(y_test), np.expm1(linreg_pred))**(0.5))"
   ]
  },
  {
   "cell_type": "markdown",
   "metadata": {},
   "source": [
    "Random forest model prediction"
   ]
  },
  {
   "cell_type": "code",
   "execution_count": 209,
   "metadata": {},
   "outputs": [
    {
     "name": "stdout",
     "output_type": "stream",
     "text": [
      "Test RMSE for Random Forest Regression 5554763.841721576\n"
     ]
    }
   ],
   "source": [
    "rf_pred = grid_rf.predict(X_test)\n",
    "print(\"Test RMSE for Random Forest Regression\",MSE(np.expm1(y_test), np.expm1(rf_pred))**(0.5))"
   ]
  },
  {
   "cell_type": "markdown",
   "metadata": {},
   "source": [
    "#### Libraries\n",
    "Load these first to run the script"
   ]
  },
  {
   "cell_type": "code",
   "execution_count": 169,
   "metadata": {
    "pycharm": {
     "name": "#%%\n"
    }
   },
   "outputs": [],
   "source": [
    "import pandas as pd\n",
    "import numpy as np\n",
    "import matplotlib.pyplot as plt\n",
    "from scipy.stats import skew\n",
    "from sklearn.model_selection import train_test_split, cross_val_score, GridSearchCV\n",
    "from sklearn.linear_model import LinearRegression, Ridge, RidgeCV, Lasso, LassoCV\n",
    "from sklearn.ensemble import RandomForestRegressor\n",
    "from sklearn.metrics import mean_squared_error as MSE"
   ]
  },
  {
   "cell_type": "code",
   "execution_count": null,
   "metadata": {},
   "outputs": [],
   "source": []
  }
 ],
 "metadata": {
  "kernelspec": {
   "display_name": "Python 3",
   "language": "python",
   "name": "python3"
  },
  "language_info": {
   "codemirror_mode": {
    "name": "ipython",
    "version": 3
   },
   "file_extension": ".py",
   "mimetype": "text/x-python",
   "name": "python",
   "nbconvert_exporter": "python",
   "pygments_lexer": "ipython3",
   "version": "3.7.4"
  }
 },
 "nbformat": 4,
 "nbformat_minor": 2
}
